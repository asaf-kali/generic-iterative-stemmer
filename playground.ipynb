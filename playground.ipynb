{
 "cells": [
  {
   "cell_type": "code",
   "execution_count": 21,
   "metadata": {
    "collapsed": false
   },
   "outputs": [
    {
     "data": {
      "text/plain": "<module 'model_trainer.word2vec' from '/home/akali/projects/model-trainer/model_trainer/word2vec.py'>"
     },
     "execution_count": 21,
     "metadata": {},
     "output_type": "execute_result"
    }
   ],
   "source": [
    "import numpy as np\n",
    "import importlib\n",
    "\n",
    "from model_trainer import word2vec\n",
    "from model_trainer.config import get_data\n",
    "\n",
    "importlib.reload(word2vec)"
   ]
  },
  {
   "cell_type": "code",
   "execution_count": 22,
   "metadata": {
    "collapsed": true
   },
   "outputs": [
    {
     "name": "stdout",
     "output_type": "stream",
     "text": [
      "[14:27:01] loading Word2Vec object from ./data/wiki-he/word2vec.sg.model [gensim.utils]\n",
      "[14:27:02] loading wv recursively from ./data/wiki-he/word2vec.sg.model.wv.* with mmap=None [gensim.utils]\n",
      "[14:27:02] loading vectors from ./data/wiki-he/word2vec.sg.model.wv.vectors.npy with mmap=None [gensim.utils]\n",
      "[14:27:02] loading syn1neg from ./data/wiki-he/word2vec.sg.model.syn1neg.npy with mmap=None [gensim.utils]\n",
      "[14:27:02] setting ignored attribute cum_table to None [gensim.utils]\n",
      "[14:27:07] Word2Vec lifecycle event {'fname': './data/wiki-he/word2vec.sg.model', 'datetime': '2021-12-04T14:27:07.762902', 'gensim': '4.1.2', 'python': '3.8.10 (default, Sep 28 2021, 16:10:42) \\n[GCC 9.3.0]', 'platform': 'Linux-5.11.0-40-generic-x86_64-with-glibc2.29', 'event': 'loaded'} [gensim.utils]\n",
      "[14:27:07] Model loaded [model_trainer.word2vec]\n"
     ]
    }
   ],
   "source": [
    "path = get_data(\"wiki-he\", \"word2vec.sg.model\")\n",
    "model = word2vec.get_model(path)"
   ]
  },
  {
   "cell_type": "code",
   "execution_count": 23,
   "outputs": [
    {
     "data": {
      "text/plain": "<gensim.models.keyedvectors.KeyedVectors at 0x7f6163c85160>"
     },
     "execution_count": 23,
     "metadata": {},
     "output_type": "execute_result"
    }
   ],
   "source": [
    "model"
   ],
   "metadata": {
    "collapsed": false,
    "pycharm": {
     "name": "#%%\n"
    }
   }
  },
  {
   "cell_type": "code",
   "execution_count": 24,
   "metadata": {
    "collapsed": false
   },
   "outputs": [
    {
     "name": "stdout",
     "output_type": "stream",
     "text": [
      "[ 0.12201473  0.4157569   0.25584534 -0.00084572 -0.02762802 -0.34848267\n",
      " -0.07668881  0.55765635 -0.11156608 -0.3220578  -0.11131128 -0.5666884\n",
      " -0.35832924  0.06190926 -0.00732876  0.09381285 -0.11513103  0.1315117\n",
      " -0.21941137 -0.46255064  0.16205564  0.40878597  0.27091485 -0.22944792\n",
      "  0.33986586  0.00538946  0.09020974 -0.24224997 -0.26301703  0.0893969\n",
      "  0.5123346  -0.4352923  -0.4106049  -0.28540146 -0.2672511   0.03342221\n",
      "  0.11642558 -0.02832341 -0.17115128 -0.17061181  0.05604581 -0.19280925\n",
      " -0.5406487  -0.24480811 -0.18246494 -0.0010563   0.266851   -0.30168554\n",
      " -0.56209415  0.05491529  0.19850968 -0.03609506 -0.27126512  0.30463856\n",
      " -0.47226453 -0.0461291   0.34621558 -0.00376109 -0.4881484   0.19151746\n",
      "  0.6009701   0.03552478  0.4940505  -0.22286648 -0.1971221   0.06623313\n",
      " -0.00858925  0.18262745 -0.10093832 -0.43919343  0.2979882   0.13706148\n",
      " -0.07333151 -0.00790439  0.18754679  0.3972752  -0.11489441  0.05194813\n",
      " -0.01478842  0.01831702 -0.10015971  0.03284733 -0.07019375 -0.06228474\n",
      " -0.27418694 -0.15466407  0.1260798   0.4598919  -0.2240863  -0.14246382\n",
      "  0.5474147   0.2645744   0.15967795 -0.28061864  0.48771954 -0.05993012\n",
      "  0.13841236 -0.5567186   0.15372401  0.0296626 ]\n",
      "[-1.36667836e+00  1.68085620e-01 -2.31951892e-01 -1.08771110e+00\n",
      "  1.16289928e-04 -2.66279399e-01  3.26405950e-02  1.11334431e+00\n",
      "  4.62920457e-01 -1.16067708e+00  1.01096161e-01 -1.38743505e-01\n",
      "  3.40418994e-01 -4.62307245e-01  4.20657188e-01  1.44539464e+00\n",
      "  1.03038251e+00 -4.59217280e-01  5.46459295e-02 -9.50609863e-01\n",
      "  4.42107797e-01  4.48062688e-01  3.35614979e-01 -2.08049510e-02\n",
      "  4.74410176e-01  9.76657331e-01 -7.01286554e-01  4.07666683e-01\n",
      "  1.09793596e-01 -3.81877720e-01  1.15401721e+00 -1.18900172e-01\n",
      " -6.54881120e-01 -6.30807102e-01 -3.33921313e-01  8.66989613e-01\n",
      "  4.32867348e-01  5.36395431e-01 -1.09590781e+00  3.78218353e-01\n",
      "  6.26987755e-01  1.27341419e-01 -8.79250884e-01  1.11254625e-01\n",
      "  3.35284412e-01 -1.02473474e+00  7.72341251e-01 -9.29330826e-01\n",
      " -9.90195051e-02 -3.75524797e-02  5.02793074e-01 -3.71533871e-01\n",
      " -7.54468918e-01  3.32219809e-01 -2.00503871e-01  5.60806811e-01\n",
      "  2.17575371e-01  1.30111504e+00 -7.04635829e-02 -3.00118271e-02\n",
      "  3.04523826e-01  3.21548641e-01  7.09999621e-01  5.09414852e-01\n",
      " -2.13550180e-01  7.56100953e-01 -3.76310259e-01 -3.48243386e-01\n",
      "  8.51146951e-02  6.97847605e-01 -3.41162533e-01 -1.06687874e-01\n",
      "  1.36478269e+00 -4.03816670e-01  2.09744319e-01  7.25295484e-01\n",
      "  4.29438114e-01 -1.80036291e-01 -3.55703354e-01  3.12181950e-01\n",
      "  9.69254151e-02 -3.42153192e-01  1.81737721e-01  7.65742958e-01\n",
      " -2.00241238e-01 -5.03084838e-01 -6.29645646e-01  7.38256574e-01\n",
      " -2.93868005e-01  1.30885690e-01  1.73253819e-01  2.51265407e-01\n",
      "  1.26170158e+00  5.75741947e-01  9.48815227e-01 -5.80114841e-01\n",
      "  9.80601728e-01 -1.89075708e-01 -4.77142841e-01 -5.07831693e-01]\n",
      "[-6.16267659e-02  4.25985217e-01  1.43808667e-02 -2.61622280e-01\n",
      "  1.96936801e-01 -1.75093248e-01  6.94758445e-02  5.70198417e-01\n",
      "  4.19764929e-02 -1.72400266e-01 -3.74890268e-02 -2.77086377e-01\n",
      "  1.47622585e-01  6.32164001e-01 -3.54278982e-01  8.71399343e-02\n",
      " -4.35034558e-02 -7.49165788e-02 -6.39003992e-01 -8.77430320e-01\n",
      "  4.85607088e-01  5.18622041e-01 -5.53938635e-02  3.36146683e-01\n",
      "  4.87950534e-01  2.21432135e-01 -1.64091170e-01 -1.83193192e-01\n",
      " -9.59681943e-02 -4.66242582e-02  5.70742846e-01 -3.17605972e-01\n",
      "  8.81424919e-02 -2.05128640e-01  4.20919061e-02 -1.31684884e-01\n",
      " -1.19995184e-01  1.04901649e-01 -9.70519483e-02 -2.83080459e-01\n",
      "  2.24478528e-01 -3.94169748e-01 -1.32989958e-01  6.04910366e-02\n",
      "  1.09651513e-01 -2.36389652e-01 -3.54368240e-04 -1.89260289e-01\n",
      " -5.66411056e-02  3.55682224e-01 -5.09145185e-02  1.90816164e-01\n",
      "  3.82709265e-01 -1.94244385e-01  2.62724191e-01 -3.23891997e-01\n",
      " -2.49017999e-02 -3.90533693e-02 -1.70376852e-01  1.42581537e-01\n",
      " -1.47832006e-01 -7.13702440e-02  1.12506449e-01  2.19742313e-01\n",
      " -1.74641177e-01  6.71766400e-01  6.68032393e-02  4.57357466e-01\n",
      "  3.20811450e-01  2.28343885e-02 -2.23565713e-01  1.24985613e-01\n",
      "  2.27392882e-01 -2.95794923e-02  2.59511828e-01  7.77721172e-03\n",
      " -3.11436117e-01 -9.16814525e-03  1.24642849e-01 -6.57791495e-01\n",
      " -1.69047281e-01 -2.02257454e-01 -2.22167689e-02  1.44576520e-01\n",
      " -3.02899092e-01 -1.45431086e-01  2.01964960e-01  7.79538080e-02\n",
      " -3.60438257e-01 -1.25755202e-02  7.55053610e-02  3.82312059e-01\n",
      "  1.55961573e-01  5.24518900e-02  3.67173642e-01  2.78399050e-01\n",
      "  3.07988137e-01 -5.23162425e-01  1.19079374e-01  3.65979731e-01]\n",
      "[ 0.19839892  0.03506831 -0.02728201 -0.15023991  0.5903305  -0.32398355\n",
      "  0.15954715  0.626622   -0.57880723 -0.04237786 -0.11263845 -0.74440116\n",
      "  0.02469471  0.06554471  0.10374746  0.08220836  0.2138479  -0.06293353\n",
      " -0.52768403 -0.27164817 -0.15873376  0.03106771  0.05753545 -0.253697\n",
      "  0.3668443  -0.19173504 -0.12354885  0.07387716 -0.24203652 -0.02114855\n",
      "  0.17820862 -0.40244117 -0.34808826 -0.5534041  -0.0881734  -0.03276146\n",
      "  0.00654587  0.4167172  -0.14588633 -0.12476414  0.3107485  -0.012164\n",
      " -0.50556904  0.04986501  0.06724875  0.10814906 -0.14823954 -0.06997538\n",
      " -0.19231209  0.43615642 -0.09622487 -0.41776314 -0.26882958  0.29063398\n",
      " -0.23083699 -0.2518888   0.23632374 -0.00921757 -0.16212924  0.15098009\n",
      "  0.2853032   0.46408433  0.8957599  -0.37629378 -0.00114535  0.3246768\n",
      " -0.13309272  0.3565791  -0.18787496  0.25555834 -0.0957472  -0.34889573\n",
      "  0.11603484 -0.25753734  0.18819024 -0.00748904  0.284088   -0.2835918\n",
      " -0.278553   -0.044376   -0.09988242  0.19654335 -0.04908881  0.20371825\n",
      " -0.10304721 -0.15113321 -0.19008934  0.00602428  0.73355937 -0.2515566\n",
      "  0.33714682  0.67596245  0.06634915  0.26134768  0.6429911   0.17100875\n",
      "  0.27255884 -0.30063814  0.27574497 -0.258374  ]\n",
      "[-0.37092444 -0.04102025  0.10021937  0.06389941  0.30744493 -0.16368853\n",
      " -0.10849439  0.13012128 -0.5230652  -0.39028144 -0.3408051  -0.4492822\n",
      " -0.09530883  0.2159563   0.02794593  0.2268771   0.02281823  0.2594347\n",
      " -0.36916924 -0.85027015  0.1135027   0.18899162 -0.05571923 -0.3418108\n",
      "  0.29693305  0.08530079 -0.15084647  0.05228821 -0.3974831   0.48461133\n",
      "  0.5652957  -0.48818713 -0.35898075  0.14594983 -0.30603546 -0.01094161\n",
      "  0.62920964  0.09717035  0.6880741  -0.18568942  0.7288215  -0.00630388\n",
      " -0.42472473 -0.32161045 -0.03169643  0.14580068  0.29849565 -0.07139665\n",
      " -0.17302182  0.18360716 -0.08972355 -0.10726093 -0.01925987  0.09071077\n",
      " -0.17290603 -0.03170066 -0.11772992  0.13595468 -0.05736508  0.6143722\n",
      " -0.35634825  0.10624004  0.00716292 -0.5364443  -0.25507876  0.17663243\n",
      "  0.3742661   0.04071832  0.12352861 -0.23462525 -0.2776335  -0.65449154\n",
      "  0.21479781  0.1566291  -0.04685171  0.39991334 -0.09392063 -0.29686287\n",
      " -0.02835625 -0.3780939  -0.37937397  0.15223688 -0.59245735  0.1329105\n",
      "  0.05400845  0.36265838  0.42780453 -0.44944584  0.28310263  0.05648268\n",
      " -0.1284986  -0.00919085  0.1589872   0.06425128  0.53996325  0.09682777\n",
      "  0.17327714 -0.58545464  0.02470205  0.61267513]\n"
     ]
    }
   ],
   "source": [
    "# most popular words\n",
    "\n",
    "print(model['עם'])\n",
    "print(model['קטגוריה'])\n",
    "print(model['הוא'])\n",
    "print(model['על'])\n",
    "print(model['את'])\n",
    "\n",
    "# note: קטגוריה popularity is due to the Wikipedia bias"
   ]
  },
  {
   "cell_type": "code",
   "execution_count": 28,
   "metadata": {
    "collapsed": false
   },
   "outputs": [
    {
     "data": {
      "text/plain": "576850"
     },
     "execution_count": 28,
     "metadata": {},
     "output_type": "execute_result"
    }
   ],
   "source": [
    "# words in vocabulary\n",
    "len(model.index_to_key)"
   ]
  },
  {
   "cell_type": "code",
   "execution_count": 50,
   "outputs": [],
   "source": [
    "from typing import List, Tuple, Iterable\n",
    "\n",
    "\n",
    "def similarities_to_words(similarities: Iterable[Tuple[str, float]]) -> List[str]:\n",
    "    return [word for word, _ in similarities]"
   ],
   "metadata": {
    "collapsed": false,
    "pycharm": {
     "name": "#%%\n"
    }
   }
  },
  {
   "cell_type": "code",
   "execution_count": 49,
   "metadata": {
    "collapsed": false
   },
   "outputs": [
    {
     "data": {
      "text/plain": "'עם'"
     },
     "execution_count": 49,
     "metadata": {},
     "output_type": "execute_result"
    }
   ],
   "source": [
    "model.index_to_key[5]"
   ]
  },
  {
   "cell_type": "code",
   "execution_count": 51,
   "metadata": {
    "collapsed": false
   },
   "outputs": [
    {
     "data": {
      "text/plain": "'עבודה'"
     },
     "execution_count": 51,
     "metadata": {},
     "output_type": "execute_result"
    }
   ],
   "source": [
    "model.doesnt_match('ביבי נתניהו ליכוד עבודה'.split())"
   ]
  },
  {
   "cell_type": "code",
   "execution_count": 52,
   "metadata": {
    "collapsed": false
   },
   "outputs": [
    {
     "data": {
      "text/plain": "'טוגנים'"
     },
     "execution_count": 52,
     "metadata": {},
     "output_type": "execute_result"
    }
   ],
   "source": [
    "model.doesnt_match('לילה בוקר ערב צהריים טוגנים'.split())"
   ]
  },
  {
   "cell_type": "code",
   "execution_count": 53,
   "metadata": {
    "collapsed": false
   },
   "outputs": [
    {
     "data": {
      "text/plain": "'אריה'"
     },
     "execution_count": 53,
     "metadata": {},
     "output_type": "execute_result"
    }
   ],
   "source": [
    "model.doesnt_match('סוס כלב אריה צלחת ציפור ליוויתן חתול '.split())"
   ]
  },
  {
   "cell_type": "code",
   "execution_count": 54,
   "metadata": {
    "collapsed": false
   },
   "outputs": [
    {
     "data": {
      "text/plain": "['וגבר', 'כשגבר', 'בניגנו', 'שגבר', 'הומוסקסואל']"
     },
     "execution_count": 54,
     "metadata": {},
     "output_type": "execute_result"
    }
   ],
   "source": [
    "similarities_to_words(model.most_similar('גבר', topn=5))"
   ]
  },
  {
   "cell_type": "code",
   "execution_count": 55,
   "metadata": {
    "collapsed": false
   },
   "outputs": [
    {
     "data": {
      "text/plain": "['אשה', 'נערה', 'צעירה', 'ילדה', 'באישה']"
     },
     "execution_count": 55,
     "metadata": {},
     "output_type": "execute_result"
    }
   ],
   "source": [
    "similarities_to_words(model.most_similar('אישה', topn=5))"
   ]
  },
  {
   "cell_type": "code",
   "execution_count": 56,
   "metadata": {
    "collapsed": false
   },
   "outputs": [
    {
     "data": {
      "text/plain": "0.6775754"
     },
     "execution_count": 56,
     "metadata": {},
     "output_type": "execute_result"
    }
   ],
   "source": [
    " model.similarity(u'גבר', u'אישה')"
   ]
  },
  {
   "cell_type": "code",
   "execution_count": 57,
   "metadata": {
    "collapsed": false
   },
   "outputs": [
    {
     "data": {
      "text/plain": "0.6660579"
     },
     "execution_count": 57,
     "metadata": {},
     "output_type": "execute_result"
    }
   ],
   "source": [
    "model.similarity(u'ילד', u'אישה')"
   ]
  },
  {
   "cell_type": "code",
   "execution_count": 58,
   "metadata": {
    "collapsed": false
   },
   "outputs": [
    {
     "data": {
      "text/plain": "0.56486994"
     },
     "execution_count": 58,
     "metadata": {},
     "output_type": "execute_result"
    }
   ],
   "source": [
    "model.similarity(u'יפה', u'אישה')"
   ]
  },
  {
   "cell_type": "code",
   "execution_count": 60,
   "metadata": {
    "collapsed": false
   },
   "outputs": [
    {
     "data": {
      "text/plain": "['מלכת', 'המלך', 'ומלך', 'קיסרית', 'הנסיכה']"
     },
     "execution_count": 60,
     "metadata": {},
     "output_type": "execute_result"
    }
   ],
   "source": [
    "similarities_to_words(model.most_similar(positive=['אישה', 'מלך'], negative=['גבר'], topn=5))"
   ]
  },
  {
   "cell_type": "code",
   "execution_count": 61,
   "metadata": {
    "collapsed": false
   },
   "outputs": [
    {
     "data": {
      "text/plain": "['ישראל', 'סוריה', 'ירדן', 'תימן', 'מרוקו']"
     },
     "execution_count": 61,
     "metadata": {},
     "output_type": "execute_result"
    }
   ],
   "source": [
    "similarities_to_words(model.most_similar(positive=['ירושלים', 'גרמניה'], negative=['ברלין'], topn=5))"
   ]
  },
  {
   "cell_type": "code",
   "execution_count": 62,
   "metadata": {
    "collapsed": false
   },
   "outputs": [
    {
     "data": {
      "text/plain": "['אירלנד', 'בריטניה', 'הולנד', 'קנדה', 'אנגליה']"
     },
     "execution_count": 62,
     "metadata": {},
     "output_type": "execute_result"
    }
   ],
   "source": [
    "similarities_to_words(model.most_similar(positive=['לונדון', 'גרמניה'], negative=['ברלין'], topn=5))"
   ]
  },
  {
   "cell_type": "code",
   "execution_count": 63,
   "metadata": {
    "collapsed": false
   },
   "outputs": [
    {
     "data": {
      "text/plain": "['נורווגיה', 'דנמרק', 'אירלנד', 'שוודיה', 'ירדן']"
     },
     "execution_count": 63,
     "metadata": {},
     "output_type": "execute_result"
    }
   ],
   "source": [
    "similarities_to_words(model.most_similar(positive=['אוסלו', 'גרמניה'], negative=['ברלין'], topn=5))"
   ]
  },
  {
   "cell_type": "code",
   "execution_count": null,
   "metadata": {
    "collapsed": true
   },
   "outputs": [],
   "source": []
  }
 ],
 "metadata": {
  "interpreter": {
   "hash": "6e8222c86223522c750cbbc2c96d298f9dfae65b40cd1567f83c74c61183bce8"
  },
  "kernelspec": {
   "display_name": "Python 2",
   "language": "python",
   "name": "python3"
  },
  "language_info": {
   "codemirror_mode": {
    "name": "ipython",
    "version": 3
   },
   "file_extension": ".py",
   "mimetype": "text/x-python",
   "name": "python",
   "nbconvert_exporter": "python",
   "pygments_lexer": "ipython3",
   "version": "3.8.10"
  }
 },
 "nbformat": 4,
 "nbformat_minor": 0
}