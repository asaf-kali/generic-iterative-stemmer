{
 "cells": [
  {
   "cell_type": "code",
   "execution_count": 1,
   "outputs": [
    {
     "name": "stdout",
     "output_type": "stream",
     "text": [
      "/home/akali/projects/model-trainer\n"
     ]
    }
   ],
   "source": [
    "%cd \"../\"\n",
    "%reload_ext autoreload\n",
    "%autoreload 2"
   ],
   "metadata": {
    "collapsed": false,
    "pycharm": {
     "name": "#%%\n"
    }
   }
  },
  {
   "cell_type": "code",
   "execution_count": 2,
   "outputs": [],
   "source": [
    "# %cd \"./model-trainer\""
   ],
   "metadata": {
    "collapsed": false,
    "pycharm": {
     "name": "#%%\n"
    }
   }
  },
  {
   "cell_type": "code",
   "execution_count": 15,
   "outputs": [
    {
     "name": "stdout",
     "output_type": "stream",
     "text": [
      "[12:56:49] Logging configured [generic_iterative_stemmer.utils.logging]\n"
     ]
    }
   ],
   "source": [
    "import json\n",
    "import logging\n",
    "from typing import Iterable, Tuple, List\n",
    "\n",
    "from generic_iterative_stemmer.training.stemming import Word2VecStemmingTrainer\n",
    "from generic_iterative_stemmer.utils import get_path, configure_logging\n",
    "\n",
    "configure_logging()\n",
    "\n",
    "\n",
    "def similarities_to_words(similarities: Iterable[Tuple[str, float]]) -> List[str]:\n",
    "    return [word for word, _ in similarities]\n",
    "\n",
    "\n",
    "log = logging.getLogger(__name__)"
   ],
   "metadata": {
    "collapsed": false,
    "pycharm": {
     "name": "#%%\n"
    }
   }
  },
  {
   "cell_type": "code",
   "execution_count": 38,
   "outputs": [],
   "source": [
    "corpus_name = \"wiki-he-ft\"\n",
    "corpus_folder = get_path(corpus_name)\n",
    "trainer = Word2VecStemmingTrainer.load_from_state_file(corpus_folder=corpus_folder)"
   ],
   "metadata": {
    "collapsed": false,
    "pycharm": {
     "name": "#%%\n"
    }
   }
  },
  {
   "cell_type": "code",
   "execution_count": 7,
   "outputs": [
    {
     "ename": "KeyboardInterrupt",
     "evalue": "",
     "output_type": "error",
     "traceback": [
      "\u001B[0;31m---------------------------------------------------------------------------\u001B[0m",
      "\u001B[0;31mKeyboardInterrupt\u001B[0m                         Traceback (most recent call last)",
      "\u001B[0;32m/tmp/ipykernel_14931/49973641.py\u001B[0m in \u001B[0;36m<module>\u001B[0;34m\u001B[0m\n\u001B[0;32m----> 1\u001B[0;31m \u001B[0mtrainer\u001B[0m\u001B[0;34m.\u001B[0m\u001B[0mtrain\u001B[0m\u001B[0;34m(\u001B[0m\u001B[0;34m)\u001B[0m\u001B[0;34m\u001B[0m\u001B[0;34m\u001B[0m\u001B[0m\n\u001B[0m",
      "\u001B[0;32m~/projects/model-trainer/generic_iterative_stemmer/utils/logging.py\u001B[0m in \u001B[0;36mwrapper\u001B[0;34m(*args, **kwargs)\u001B[0m\n\u001B[1;32m     80\u001B[0m     \u001B[0;32mdef\u001B[0m \u001B[0mwrapper\u001B[0m\u001B[0;34m(\u001B[0m\u001B[0;34m*\u001B[0m\u001B[0margs\u001B[0m\u001B[0;34m,\u001B[0m \u001B[0;34m**\u001B[0m\u001B[0mkwargs\u001B[0m\u001B[0;34m)\u001B[0m\u001B[0;34m:\u001B[0m\u001B[0;34m\u001B[0m\u001B[0;34m\u001B[0m\u001B[0m\n\u001B[1;32m     81\u001B[0m         \u001B[0mstart\u001B[0m \u001B[0;34m=\u001B[0m \u001B[0mtime\u001B[0m\u001B[0;34m(\u001B[0m\u001B[0;34m)\u001B[0m\u001B[0;34m\u001B[0m\u001B[0;34m\u001B[0m\u001B[0m\n\u001B[0;32m---> 82\u001B[0;31m         \u001B[0mresult\u001B[0m \u001B[0;34m=\u001B[0m \u001B[0mfunc\u001B[0m\u001B[0;34m(\u001B[0m\u001B[0;34m*\u001B[0m\u001B[0margs\u001B[0m\u001B[0;34m,\u001B[0m \u001B[0;34m**\u001B[0m\u001B[0mkwargs\u001B[0m\u001B[0;34m)\u001B[0m\u001B[0;34m\u001B[0m\u001B[0;34m\u001B[0m\u001B[0m\n\u001B[0m\u001B[1;32m     83\u001B[0m         \u001B[0mfinish\u001B[0m \u001B[0;34m=\u001B[0m \u001B[0mtime\u001B[0m\u001B[0;34m(\u001B[0m\u001B[0;34m)\u001B[0m\u001B[0;34m\u001B[0m\u001B[0;34m\u001B[0m\u001B[0m\n\u001B[1;32m     84\u001B[0m         \u001B[0mdelta\u001B[0m \u001B[0;34m=\u001B[0m \u001B[0mtimedelta\u001B[0m\u001B[0;34m(\u001B[0m\u001B[0mseconds\u001B[0m\u001B[0;34m=\u001B[0m\u001B[0mfinish\u001B[0m \u001B[0;34m-\u001B[0m \u001B[0mstart\u001B[0m\u001B[0;34m)\u001B[0m\u001B[0;34m\u001B[0m\u001B[0;34m\u001B[0m\u001B[0m\n",
      "\u001B[0;32m~/projects/model-trainer/generic_iterative_stemmer/training/stemming/stemming_trainer.py\u001B[0m in \u001B[0;36mtrain\u001B[0;34m(self, save_stem_dict_when_done)\u001B[0m\n\u001B[1;32m    239\u001B[0m                 \u001B[0;32mbreak\u001B[0m\u001B[0;34m\u001B[0m\u001B[0;34m\u001B[0m\u001B[0m\n\u001B[1;32m    240\u001B[0m         \u001B[0;32mif\u001B[0m \u001B[0msave_stem_dict_when_done\u001B[0m\u001B[0;34m:\u001B[0m\u001B[0;34m\u001B[0m\u001B[0;34m\u001B[0m\u001B[0m\n\u001B[0;32m--> 241\u001B[0;31m             \u001B[0mself\u001B[0m\u001B[0;34m.\u001B[0m\u001B[0msave_stem_dict\u001B[0m\u001B[0;34m(\u001B[0m\u001B[0;34m)\u001B[0m\u001B[0;34m\u001B[0m\u001B[0;34m\u001B[0m\u001B[0m\n\u001B[0m\u001B[1;32m    242\u001B[0m \u001B[0;34m\u001B[0m\u001B[0m\n\u001B[1;32m    243\u001B[0m     \u001B[0;34m@\u001B[0m\u001B[0mmeasure_time\u001B[0m\u001B[0;34m\u001B[0m\u001B[0;34m\u001B[0m\u001B[0m\n",
      "\u001B[0;32m~/projects/model-trainer/generic_iterative_stemmer/training/stemming/stemming_trainer.py\u001B[0m in \u001B[0;36msave_stem_dict\u001B[0;34m(self)\u001B[0m\n\u001B[1;32m    289\u001B[0m             \u001B[0mlog\u001B[0m\u001B[0;34m.\u001B[0m\u001B[0minfo\u001B[0m\u001B[0;34m(\u001B[0m\u001B[0;34m\"No iterations completed, skipping save.\"\u001B[0m\u001B[0;34m)\u001B[0m\u001B[0;34m\u001B[0m\u001B[0;34m\u001B[0m\u001B[0m\n\u001B[1;32m    290\u001B[0m             \u001B[0;32mreturn\u001B[0m\u001B[0;34m\u001B[0m\u001B[0;34m\u001B[0m\u001B[0m\n\u001B[0;32m--> 291\u001B[0;31m         \u001B[0mstem_dict\u001B[0m \u001B[0;34m=\u001B[0m \u001B[0mself\u001B[0m\u001B[0;34m.\u001B[0m\u001B[0mcollect_complete_stem_dict\u001B[0m\u001B[0;34m(\u001B[0m\u001B[0;34m)\u001B[0m\u001B[0;34m\u001B[0m\u001B[0;34m\u001B[0m\u001B[0m\n\u001B[0m\u001B[1;32m    292\u001B[0m         \u001B[0mmodel_path\u001B[0m \u001B[0;34m=\u001B[0m \u001B[0mget_model_path\u001B[0m\u001B[0;34m(\u001B[0m\u001B[0mself\u001B[0m\u001B[0;34m.\u001B[0m\u001B[0mlast_completed_iteration_folder\u001B[0m\u001B[0;34m)\u001B[0m\u001B[0;34m\u001B[0m\u001B[0;34m\u001B[0m\u001B[0m\n\u001B[1;32m    293\u001B[0m         \u001B[0msave_stem_dict\u001B[0m\u001B[0;34m(\u001B[0m\u001B[0mstem_dict\u001B[0m\u001B[0;34m=\u001B[0m\u001B[0mstem_dict\u001B[0m\u001B[0;34m,\u001B[0m \u001B[0mmodel_path\u001B[0m\u001B[0;34m=\u001B[0m\u001B[0mmodel_path\u001B[0m\u001B[0;34m)\u001B[0m\u001B[0;34m\u001B[0m\u001B[0;34m\u001B[0m\u001B[0m\n",
      "\u001B[0;32m~/projects/model-trainer/generic_iterative_stemmer/training/stemming/stemming_trainer.py\u001B[0m in \u001B[0;36mcollect_complete_stem_dict\u001B[0;34m(self)\u001B[0m\n\u001B[1;32m    276\u001B[0m             \u001B[0miteration_stem_dict\u001B[0m \u001B[0;34m=\u001B[0m \u001B[0mstats\u001B[0m\u001B[0;34m[\u001B[0m\u001B[0;34m\"stem_dict\"\u001B[0m\u001B[0;34m]\u001B[0m\u001B[0;34m\u001B[0m\u001B[0;34m\u001B[0m\u001B[0m\n\u001B[1;32m    277\u001B[0m             \u001B[0mstem_dict\u001B[0m\u001B[0;34m.\u001B[0m\u001B[0mupdate\u001B[0m\u001B[0;34m(\u001B[0m\u001B[0miteration_stem_dict\u001B[0m\u001B[0;34m)\u001B[0m\u001B[0;34m\u001B[0m\u001B[0;34m\u001B[0m\u001B[0m\n\u001B[0;32m--> 278\u001B[0;31m         \u001B[0mreduced_stem_dict\u001B[0m \u001B[0;34m=\u001B[0m \u001B[0mreduce_stem_dict\u001B[0m\u001B[0;34m(\u001B[0m\u001B[0mstem_dict\u001B[0m\u001B[0;34m)\u001B[0m\u001B[0;34m\u001B[0m\u001B[0;34m\u001B[0m\u001B[0m\n\u001B[0m\u001B[1;32m    279\u001B[0m         \u001B[0;32mreturn\u001B[0m \u001B[0mreduced_stem_dict\u001B[0m\u001B[0;34m\u001B[0m\u001B[0;34m\u001B[0m\u001B[0m\n\u001B[1;32m    280\u001B[0m \u001B[0;34m\u001B[0m\u001B[0m\n",
      "\u001B[0;32m~/projects/model-trainer/generic_iterative_stemmer/training/stemming/stem_dict_generator.py\u001B[0m in \u001B[0;36mreduce_stem_dict\u001B[0;34m(stem_dict)\u001B[0m\n\u001B[1;32m     90\u001B[0m     \u001B[0mreduced_dict\u001B[0m\u001B[0;34m:\u001B[0m \u001B[0mStemDict\u001B[0m \u001B[0;34m=\u001B[0m \u001B[0;34m{\u001B[0m\u001B[0;34m}\u001B[0m\u001B[0;34m\u001B[0m\u001B[0;34m\u001B[0m\u001B[0m\n\u001B[1;32m     91\u001B[0m     \u001B[0;32mwhile\u001B[0m \u001B[0mlen\u001B[0m\u001B[0;34m(\u001B[0m\u001B[0mstem_dict\u001B[0m\u001B[0;34m)\u001B[0m \u001B[0;34m>\u001B[0m \u001B[0;36m0\u001B[0m\u001B[0;34m:\u001B[0m\u001B[0;34m\u001B[0m\u001B[0;34m\u001B[0m\u001B[0m\n\u001B[0;32m---> 92\u001B[0;31m         \u001B[0mword_to_reduce\u001B[0m \u001B[0;34m=\u001B[0m \u001B[0mnext\u001B[0m\u001B[0;34m(\u001B[0m\u001B[0miter\u001B[0m\u001B[0;34m(\u001B[0m\u001B[0mstem_dict\u001B[0m\u001B[0;34m)\u001B[0m\u001B[0;34m)\u001B[0m\u001B[0;34m\u001B[0m\u001B[0;34m\u001B[0m\u001B[0m\n\u001B[0m\u001B[1;32m     93\u001B[0m         \u001B[0m_reduce_iteration\u001B[0m\u001B[0;34m(\u001B[0m\u001B[0mstem_dict\u001B[0m\u001B[0;34m=\u001B[0m\u001B[0mstem_dict\u001B[0m\u001B[0;34m,\u001B[0m \u001B[0mreduced_dict\u001B[0m\u001B[0;34m=\u001B[0m\u001B[0mreduced_dict\u001B[0m\u001B[0;34m,\u001B[0m \u001B[0mword_to_reduce\u001B[0m\u001B[0;34m=\u001B[0m\u001B[0mword_to_reduce\u001B[0m\u001B[0;34m)\u001B[0m\u001B[0;34m\u001B[0m\u001B[0;34m\u001B[0m\u001B[0m\n\u001B[1;32m     94\u001B[0m     \u001B[0;32mreturn\u001B[0m \u001B[0mreduced_dict\u001B[0m\u001B[0;34m\u001B[0m\u001B[0;34m\u001B[0m\u001B[0m\n",
      "\u001B[0;31mKeyboardInterrupt\u001B[0m: "
     ]
    }
   ],
   "source": [
    "# trainer.train()"
   ],
   "metadata": {
    "collapsed": false,
    "pycharm": {
     "name": "#%%\n"
    }
   }
  },
  {
   "cell_type": "code",
   "execution_count": 4,
   "outputs": [
    {
     "name": "stdout",
     "output_type": "stream",
     "text": [
      "[22:03:27] Reducing stem dict of size 39677 [generic_iterative_stemmer.training.stemming.stem_generator]\n",
      "[22:03:27] Stem dict saved: ./data/wiki-he-cbow-2/iter-9/model.kv.stem-dict.json. [generic_iterative_stemmer.models.stemmed_keyed_vectors]\n"
     ]
    }
   ],
   "source": [
    "trainer.save_stem_dict()"
   ],
   "metadata": {
    "collapsed": false,
    "pycharm": {
     "name": "#%%\n"
    }
   }
  },
  {
   "cell_type": "code",
   "execution_count": 39,
   "outputs": [
    {
     "name": "stdout",
     "output_type": "stream",
     "text": [
      "[14:12:12] loading KeyedVectors object from ./data/wiki-he-ft/iter-5/model.kv [gensim.utils]\n",
      "[14:12:12] loading vectors_vocab from ./data/wiki-he-ft/iter-5/model.kv.vectors_vocab.npy with mmap=None [gensim.utils]\n",
      "[14:12:12] loading vectors_ngrams from ./data/wiki-he-ft/iter-5/model.kv.vectors_ngrams.npy with mmap=None [gensim.utils]\n",
      "[14:12:15] setting ignored attribute vectors to None [gensim.utils]\n",
      "[14:12:15] setting ignored attribute buckets_word to None [gensim.utils]\n",
      "[14:12:24] FastTextKeyedVectors lifecycle event {'fname': './data/wiki-he-ft/iter-5/model.kv', 'datetime': '2022-01-22T14:12:24.937846', 'gensim': '4.1.2', 'python': '3.8.10 (default, Sep 28 2021, 16:10:42) \\n[GCC 9.3.0]', 'platform': 'Linux-5.11.0-40-generic-x86_64-with-glibc2.29', 'event': 'loaded'} [gensim.utils]\n"
     ]
    }
   ],
   "source": [
    "model = trainer.get_stemmed_keyed_vectors()"
   ],
   "metadata": {
    "collapsed": false,
    "pycharm": {
     "name": "#%%\n"
    }
   }
  },
  {
   "cell_type": "code",
   "execution_count": 40,
   "outputs": [
    {
     "data": {
      "text/plain": "[('מארינרמאדימ', 0.8637520670890808),\n ('הירח', 0.7906030416488647),\n ('אנשי-המאדימ', 0.7521252036094666),\n ('למאדימ', 0.7250083088874817),\n ('הגשושית', 0.7064836025238037),\n ('מאדימי', 0.7051835656166077),\n ('גשושית', 0.6916646361351013),\n (\"ג'מינידימ\", 0.6877880692481995),\n ('שביטימ', 0.6837199926376343),\n ('באטמוספירה', 0.6762114763259888)]"
     },
     "execution_count": 40,
     "metadata": {},
     "output_type": "execute_result"
    }
   ],
   "source": [
    "model.most_similar(\"מאדימ\", topn=10)"
   ],
   "metadata": {
    "collapsed": false,
    "pycharm": {
     "name": "#%%\n"
    }
   }
  },
  {
   "cell_type": "code",
   "execution_count": 31,
   "outputs": [
    {
     "data": {
      "text/plain": "[('מללה', 0.6541310548782349),\n ('מהדבורה', 0.6261004209518433),\n ('מלורה', 0.6221399307250977),\n ('מלה', 0.6206751465797424),\n ('מלולה', 0.618818998336792)]"
     },
     "execution_count": 31,
     "metadata": {},
     "output_type": "execute_result"
    }
   ],
   "source": [
    "model.most_similar(positive=[\"אישה\", \"מלך\"], negative=[\"גבר\"], topn=5)"
   ],
   "metadata": {
    "collapsed": false,
    "pycharm": {
     "name": "#%%\n"
    }
   }
  },
  {
   "cell_type": "code",
   "execution_count": 42,
   "outputs": [
    {
     "data": {
      "text/plain": "0.37712467"
     },
     "execution_count": 42,
     "metadata": {},
     "output_type": "execute_result"
    }
   ],
   "source": [
    "model.similarity(\"מלך\", \"מלכה\")"
   ],
   "metadata": {
    "collapsed": false,
    "pycharm": {
     "name": "#%%\n"
    }
   }
  },
  {
   "cell_type": "code",
   "execution_count": 43,
   "outputs": [
    {
     "data": {
      "text/plain": "[('מצרים-ישראל', 0.7028128504753113),\n ('ישראל-אפריקה', 0.7020168900489807),\n ('ספרד-ירושלימ', 0.6924636363983154),\n ('צרפת-ישראל', 0.6680106520652771),\n ('ישראל-טורקיה', 0.6668156981468201)]"
     },
     "execution_count": 43,
     "metadata": {},
     "output_type": "execute_result"
    }
   ],
   "source": [
    "model.most_similar(positive=[\"ירושלימ\", \"גרמניה\"], negative=[\"ברלינ\"], topn=5)"
   ],
   "metadata": {
    "collapsed": false,
    "pycharm": {
     "name": "#%%\n"
    }
   }
  },
  {
   "cell_type": "code",
   "execution_count": 44,
   "outputs": [
    {
     "data": {
      "text/plain": "[('בריטניה', 0.8269242644309998),\n ('אנגליה', 0.8238611221313477),\n ('אירלנד', 0.8103494644165039),\n ('אירלנדבריטניה', 0.8073332905769348),\n ('סקוטלנד', 0.7803863286972046)]"
     },
     "execution_count": 44,
     "metadata": {},
     "output_type": "execute_result"
    }
   ],
   "source": [
    "model.most_similar(positive=[\"לונדונ\", \"גרמניה\"], negative=[\"ברלינ\"], topn=5)"
   ],
   "metadata": {
    "collapsed": false,
    "pycharm": {
     "name": "#%%\n"
    }
   }
  },
  {
   "cell_type": "code",
   "execution_count": 32,
   "outputs": [
    {
     "data": {
      "text/plain": "[('ספירא', 0.6659421920776367),\n ('אביצדק', 0.6564679145812988),\n (\"שמשון'\", 0.6377360820770264),\n (\"קדם'\", 0.6315962672233582),\n ('ותאור', 0.62503582239151)]"
     },
     "execution_count": 32,
     "metadata": {},
     "output_type": "execute_result"
    }
   ],
   "source": [
    "model.most_similar(positive=[\"שמש\", \"שבתאי\", \"צדק\"], topn=5)"
   ],
   "metadata": {
    "collapsed": false,
    "pycharm": {
     "name": "#%%\n"
    }
   }
  },
  {
   "cell_type": "code",
   "execution_count": 59,
   "outputs": [
    {
     "name": "stdout",
     "output_type": "stream",
     "text": [
      "          word  cosine_similarity  association_similarity\n",
      "0     x גבר' x           0.721087                1.072382\n",
      "5     x גברד x           0.653109                1.048479\n",
      "10    x יגבר x           0.609564                1.096053\n",
      "15  x גבריינ x           0.590570                1.026747\n",
      "20   x קיפוד x           0.190626                1.010865\n"
     ]
    }
   ],
   "source": [
    "import pandas as pd\n",
    "\n",
    "base_word = \"גבר\"\n",
    "others = model.index_to_key[0:2000]\n",
    "similarities: list = model.most_similar(base_word, topn=20)\n",
    "\n",
    "\n",
    "def get_similarity(model, word):\n",
    "    return word, model.similarity(base_word, word)\n",
    "\n",
    "\n",
    "similarities.append(get_similarity(model, \"קיפוד\"))\n",
    "similarities.append(get_similarity(model, \"תפוח\"))\n",
    "similarities.append(get_similarity(model, \"קילו\"))\n",
    "similarities.append(get_similarity(model, \"פסיפס\"))\n",
    "\n",
    "\n",
    "def representative_distances(model, representative: str, others: List[str]):\n",
    "    return model.distances(representative, other_words=others)\n",
    "\n",
    "\n",
    "def association_similarity(w1: str, w2: str, others):\n",
    "    x1 = representative_distances(model, w1, others)\n",
    "    x2 = representative_distances(model, w2, others)\n",
    "    return (x1.T @ x2) / len(others)\n",
    "\n",
    "\n",
    "records = []\n",
    "for similar_word, grade in similarities:\n",
    "    association = association_similarity(base_word, similar_word, others)\n",
    "    record = (f\"x {similar_word} x\", grade, association)\n",
    "    records.append(record)\n",
    "\n",
    "df = pd.DataFrame(data=records, columns=[\"word\", \"cosine_similarity\", \"association_similarity\"])\n",
    "\n",
    "print(df.sort_values(\"cosine_similarity\", ascending=False)[::5])"
   ],
   "metadata": {
    "collapsed": false,
    "pycharm": {
     "name": "#%%\n"
    }
   }
  },
  {
   "cell_type": "code",
   "execution_count": null,
   "outputs": [],
   "source": [],
   "metadata": {
    "collapsed": false,
    "pycharm": {
     "name": "#%%\n"
    }
   }
  }
 ],
 "metadata": {
  "kernelspec": {
   "name": "python3810jvsc74a57bd06e8222c86223522c750cbbc2c96d298f9dfae65b40cd1567f83c74c61183bce8",
   "language": "python",
   "display_name": "Python 3.8.10 64-bit ('model-trainer': venv)"
  },
  "language_info": {
   "codemirror_mode": {
    "name": "ipython",
    "version": 2
   },
   "file_extension": ".py",
   "mimetype": "text/x-python",
   "name": "python",
   "nbconvert_exporter": "python",
   "pygments_lexer": "ipython2",
   "version": "2.7.6"
  }
 },
 "nbformat": 4,
 "nbformat_minor": 0
}
