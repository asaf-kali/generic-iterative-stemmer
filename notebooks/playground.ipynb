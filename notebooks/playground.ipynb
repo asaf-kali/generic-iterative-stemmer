{
 "cells": [
  {
   "cell_type": "code",
   "execution_count": 2,
   "outputs": [
    {
     "name": "stdout",
     "output_type": "stream",
     "text": [
      "/home/akali/projects/model-trainer\n"
     ]
    }
   ],
   "source": [
    "% cd../"
   ],
   "metadata": {
    "collapsed": false,
    "pycharm": {
     "name": "#%%\n"
    }
   }
  },
  {
   "cell_type": "code",
   "execution_count": 3,
   "outputs": [
    {
     "data": {
      "text/plain": "<module 'generic_iterative_stemmer.utils.loader' from '/home/akali/projects/model-trainer/generic_iterative_stemmer/utils/loader.py'>"
     },
     "execution_count": 3,
     "metadata": {},
     "output_type": "execute_result"
    }
   ],
   "source": [
    "import importlib\n",
    "import numpy as np\n",
    "from generic_iterative_stemmer.utils import get_path, loader\n",
    "from typing import List, Tuple, Iterable"
   ],
   "metadata": {
    "collapsed": false,
    "pycharm": {
     "name": "#%%\n"
    }
   }
  },
  {
   "cell_type": "markdown",
   "source": [
    "**Load model and save as KV**"
   ],
   "metadata": {
    "collapsed": false,
    "pycharm": {
     "name": "#%% md\n"
    }
   }
  },
  {
   "cell_type": "code",
   "execution_count": 4,
   "outputs": [],
   "source": [
    "corpus_name = \"wiki-he\""
   ],
   "metadata": {
    "collapsed": false,
    "pycharm": {
     "name": "#%%\n"
    }
   }
  },
  {
   "cell_type": "code",
   "execution_count": 34,
   "outputs": [],
   "source": [
    "# model_path = get_path(corpus_name, \"sg.model\")\n",
    "# model = loader.load_w2v_model(model_path)\n",
    "\n",
    "# model_path = get_path(corpus_name, \"sg.kv\")\n",
    "# model_path = get_path(corpus_name, \"fasttext.kv\")\n",
    "model_path = get_path(corpus_name, \"cbow.kv\")\n",
    "model = loader.load_kv(model_path)"
   ],
   "metadata": {
    "collapsed": false,
    "pycharm": {
     "name": "#%%\n"
    }
   }
  },
  {
   "cell_type": "code",
   "execution_count": 19,
   "metadata": {
    "collapsed": false
   },
   "outputs": [
    {
     "name": "stdout",
     "output_type": "stream",
     "text": [
      "Amount of words: 576851\n"
     ]
    }
   ],
   "source": [
    "print(f\"Amount of words: {len(model.index_to_key)}\")\n",
    "\n",
    "# print(model[\"עם\"])\n",
    "# print(model[\"קטגוריה\"])\n",
    "# print(model[\"הוא\"])\n",
    "# print(model[\"על\"])\n",
    "# print(model[\"את\"])\n",
    "\n",
    "# note: קטגוריה popularity is due to the Wikipedia bias"
   ]
  },
  {
   "cell_type": "code",
   "execution_count": 46,
   "outputs": [],
   "source": [
    "def similarities_to_words(similarities: Iterable[Tuple[str, float]]) -> List[str]:\n",
    "    return [word for word, _ in similarities]"
   ],
   "metadata": {
    "collapsed": false,
    "pycharm": {
     "name": "#%%\n"
    }
   }
  },
  {
   "cell_type": "code",
   "execution_count": 15,
   "metadata": {
    "collapsed": false
   },
   "outputs": [
    {
     "data": {
      "text/plain": "'עבודה'"
     },
     "execution_count": 15,
     "metadata": {},
     "output_type": "execute_result"
    }
   ],
   "source": [
    "model.doesnt_match(\"ביבי נתניהו ליכוד עבודה\".split())"
   ]
  },
  {
   "cell_type": "code",
   "execution_count": 35,
   "metadata": {
    "collapsed": false
   },
   "outputs": [
    {
     "data": {
      "text/plain": "'טוגנים'"
     },
     "execution_count": 35,
     "metadata": {},
     "output_type": "execute_result"
    }
   ],
   "source": [
    "model.doesnt_match(\"לילה בוקר ערב צהריים טוגנים\".split())"
   ]
  },
  {
   "cell_type": "code",
   "execution_count": 36,
   "metadata": {
    "collapsed": false
   },
   "outputs": [
    {
     "data": {
      "text/plain": "'אריות'"
     },
     "execution_count": 36,
     "metadata": {},
     "output_type": "execute_result"
    }
   ],
   "source": [
    "model.doesnt_match(\"סוס כלב ציפור אריות לוויתנ חתול צלחת\".split())"
   ]
  },
  {
   "cell_type": "code",
   "execution_count": 41,
   "metadata": {
    "collapsed": false
   },
   "outputs": [
    {
     "data": {
      "text/plain": "['הגבר', 'לגבר', 'כגבר', 'אישה', 'נער', 'זונה', 'וגבר', 'ילד']"
     },
     "execution_count": 41,
     "metadata": {},
     "output_type": "execute_result"
    }
   ],
   "source": [
    "similarities_to_words(model.most_similar(\"גבר\", topn=8))"
   ]
  },
  {
   "cell_type": "code",
   "execution_count": 42,
   "metadata": {
    "collapsed": false
   },
   "outputs": [
    {
     "data": {
      "text/plain": "['אשה', 'נערה', 'אלמנה', 'בחורה', 'ילדה', 'זונה', 'כאישה', 'שפחה']"
     },
     "execution_count": 42,
     "metadata": {},
     "output_type": "execute_result"
    }
   ],
   "source": [
    "similarities_to_words(model.most_similar(\"אישה\", topn=8))"
   ]
  },
  {
   "cell_type": "code",
   "execution_count": 53,
   "outputs": [
    {
     "data": {
      "text/plain": "['חזר', 'וחזר', 'ושב', 'עבר', 'שחזר', 'ששב', 'נסע', 'הוחזר']"
     },
     "execution_count": 53,
     "metadata": {},
     "output_type": "execute_result"
    }
   ],
   "source": [
    "similarities_to_words(model.most_similar(\"שב\", topn=8))"
   ],
   "metadata": {
    "collapsed": false,
    "pycharm": {
     "name": "#%%\n"
    }
   }
  },
  {
   "cell_type": "code",
   "execution_count": 10,
   "metadata": {
    "collapsed": false
   },
   "outputs": [
    {
     "data": {
      "text/plain": "0.5852024"
     },
     "execution_count": 10,
     "metadata": {},
     "output_type": "execute_result"
    }
   ],
   "source": [
    "model.similarity(\"גבר\", \"אישה\")"
   ]
  },
  {
   "cell_type": "code",
   "execution_count": 59,
   "metadata": {
    "collapsed": false
   },
   "outputs": [
    {
     "data": {
      "text/plain": "0.5190054"
     },
     "execution_count": 59,
     "metadata": {},
     "output_type": "execute_result"
    }
   ],
   "source": [
    "model.similarity(\"ילד\", \"אישה\")"
   ]
  },
  {
   "cell_type": "code",
   "execution_count": 60,
   "metadata": {
    "collapsed": false
   },
   "outputs": [
    {
     "data": {
      "text/plain": "0.32526597"
     },
     "execution_count": 60,
     "metadata": {},
     "output_type": "execute_result"
    }
   ],
   "source": [
    "model.similarity(\"יפה\", \"אישה\")"
   ]
  },
  {
   "cell_type": "code",
   "execution_count": 33,
   "metadata": {
    "collapsed": false
   },
   "outputs": [
    {
     "data": {
      "text/plain": "['מלכשאה', 'המלכת', 'מלכה', 'בהמלכת', 'ומלכת']"
     },
     "execution_count": 33,
     "metadata": {},
     "output_type": "execute_result"
    }
   ],
   "source": [
    "similarities_to_words(model.most_similar(positive=[\"אישה\", \"מלך\"], negative=[\"גבר\"], topn=5))"
   ]
  },
  {
   "cell_type": "code",
   "execution_count": 30,
   "metadata": {
    "collapsed": false
   },
   "outputs": [
    {
     "data": {
      "text/plain": "['כירושלים', 'ישראל', 'מצרים', 'ומירושלים', 'וירושלים']"
     },
     "execution_count": 30,
     "metadata": {},
     "output_type": "execute_result"
    }
   ],
   "source": [
    "similarities_to_words(model.most_similar(positive=[\"ירושלים\", \"גרמניה\"], negative=[\"ברלין\"], topn=5))"
   ]
  },
  {
   "cell_type": "code",
   "execution_count": 31,
   "metadata": {
    "collapsed": false
   },
   "outputs": [
    {
     "data": {
      "text/plain": "['אנגליה', 'pxאנגליה', 'בריטניה', 'שבבריטניה', 'אירלנדבריטניה']"
     },
     "execution_count": 31,
     "metadata": {},
     "output_type": "execute_result"
    }
   ],
   "source": [
    "similarities_to_words(model.most_similar(positive=[\"לונדון\", \"גרמניה\"], negative=[\"ברלין\"], topn=5))"
   ]
  },
  {
   "cell_type": "code",
   "execution_count": null,
   "metadata": {
    "collapsed": false
   },
   "outputs": [],
   "source": [
    "similarities_to_words(model.most_similar(positive=[\"אוסלו\", \"גרמניה\"], negative=[\"ברלין\"], topn=5))"
   ]
  },
  {
   "cell_type": "code",
   "execution_count": 52,
   "metadata": {
    "collapsed": true,
    "pycharm": {
     "name": "#%%\n"
    }
   },
   "outputs": [
    {
     "data": {
      "text/plain": "['השמש', 'שביט', 'ירחי', 'ושבתאי', 'אור']"
     },
     "execution_count": 52,
     "metadata": {},
     "output_type": "execute_result"
    }
   ],
   "source": [
    "similarities_to_words(model.most_similar(positive=[\"שמש\", \"שבתאי\", \"צדק\"], topn=5))"
   ]
  },
  {
   "cell_type": "code",
   "execution_count": 74,
   "outputs": [
    {
     "name": "stdout",
     "output_type": "stream",
     "text": [
      "['ובקוויבק', 'קפן', 'הקלוויניזם', 'הגזעיות', 'והוגדרו', 'חיזקו', 'ההוהוקם', 'יוחסו', 'הקילט', 'המיסיונרית']\n",
      "-0.086947374\n"
     ]
    }
   ],
   "source": [
    "def norm(x):\n",
    "    return np.linalg.norm(x)\n",
    "\n",
    "\n",
    "def normalize(x):\n",
    "    return x / norm(x)\n",
    "\n",
    "\n",
    "def cosine_similarity(u, v) -> float:\n",
    "    u = normalize(u)\n",
    "    v = normalize(v)\n",
    "    return u.T @ v\n",
    "\n",
    "\n",
    "word1 = normalize(model[\"מכונית\"])\n",
    "word2 = normalize(model[\"המכונית\"])\n",
    "word5 = normalize(model[\"מטוס\"])\n",
    "word3 = normalize(model[\"כן\"])\n",
    "word4 = normalize(model[\"גזוזטרה\"])\n",
    "pi = normalize(model[\"לבלב\"])\n",
    "start = normalize(model[\"איתי\"])\n",
    "\n",
    "print(similarities_to_words(model.most_similar(-start)))\n",
    "\n",
    "x = model[\"הקלוויניזם\"]\n",
    "print(cosine_similarity(x, model[\"איתי\"]))"
   ],
   "metadata": {
    "collapsed": false,
    "pycharm": {
     "name": "#%%\n"
    }
   }
  },
  {
   "cell_type": "code",
   "execution_count": 96,
   "outputs": [
    {
     "name": "stdout",
     "output_type": "stream",
     "text": [
      "[('מלך', 0.7251264452934265), ('ממלכי', 0.6092973351478577), ('נקבה', 0.6077431440353394), ('מולך', 0.5939931273460388), ('ומלך', 0.5853518843650818), ('נגסת', 0.5797238349914551), ('לבנן', 0.5742993354797363), ('ברניקיה', 0.5731168985366821), ('צאצאיה', 0.5727803707122803), ('פורטריו', 0.5691075325012207)]\n"
     ]
    }
   ],
   "source": [
    "# print(model.most_similar(positive=[\"מלך\", \"נקבה\"], negative=[\"זכר\"]))\n",
    "w1 = model[\"מלך\"]\n",
    "w2 = model[\"נקבה\"]\n",
    "w3 = model[\"גבר\"]\n",
    "# print(\"\\n\\n\")\n",
    "result = (w1 + w2 - w3) / 3\n",
    "print(model.most_similar(result))"
   ],
   "metadata": {
    "collapsed": false,
    "pycharm": {
     "name": "#%%\n"
    }
   }
  },
  {
   "cell_type": "code",
   "execution_count": 78,
   "outputs": [
    {
     "name": "stdout",
     "output_type": "stream",
     "text": [
      "0.33300534808340365\n"
     ]
    }
   ],
   "source": [
    "y = model[\"עלמי\"]\n",
    "print(cosine_similarity(r, y))"
   ],
   "metadata": {
    "collapsed": false,
    "pycharm": {
     "name": "#%%\n"
    }
   }
  },
  {
   "cell_type": "code",
   "execution_count": null,
   "outputs": [],
   "source": [],
   "metadata": {
    "collapsed": false,
    "pycharm": {
     "name": "#%%\n"
    }
   }
  }
 ],
 "metadata": {
  "interpreter": {
   "hash": "6e8222c86223522c750cbbc2c96d298f9dfae65b40cd1567f83c74c61183bce8"
  },
  "kernelspec": {
   "name": "python3810jvsc74a57bd06e8222c86223522c750cbbc2c96d298f9dfae65b40cd1567f83c74c61183bce8",
   "language": "python",
   "display_name": "Python 3.8.10 64-bit ('model-trainer': venv)"
  },
  "language_info": {
   "codemirror_mode": {
    "name": "ipython",
    "version": 3
   },
   "file_extension": ".py",
   "mimetype": "text/x-python",
   "name": "python",
   "nbconvert_exporter": "python",
   "pygments_lexer": "ipython3",
   "version": "3.8.10"
  }
 },
 "nbformat": 4,
 "nbformat_minor": 0
}