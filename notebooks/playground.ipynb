{
 "cells": [
  {
   "cell_type": "code",
   "execution_count": 2,
   "outputs": [
    {
     "name": "stdout",
     "output_type": "stream",
     "text": [
      "/home/akali/projects/model-trainer\n"
     ]
    }
   ],
   "source": [
    "%cd \"../\""
   ],
   "metadata": {
    "collapsed": false,
    "pycharm": {
     "name": "#%%\n"
    }
   }
  },
  {
   "cell_type": "code",
   "execution_count": 23,
   "outputs": [
    {
     "name": "stdout",
     "output_type": "stream",
     "text": [
      "/home/akali/projects/model-trainer\n"
     ]
    }
   ],
   "source": [
    "# %cd \"model-trainer\""
   ],
   "metadata": {
    "collapsed": false,
    "pycharm": {
     "name": "#%%\n"
    }
   }
  },
  {
   "cell_type": "code",
   "execution_count": 3,
   "outputs": [],
   "source": [
    "import importlib\n",
    "import numpy as np\n",
    "from generic_iterative_stemmer.utils import get_path, loader\n",
    "from typing import List, Tuple, Iterable"
   ],
   "metadata": {
    "collapsed": false,
    "pycharm": {
     "name": "#%%\n"
    }
   }
  },
  {
   "cell_type": "code",
   "execution_count": 4,
   "outputs": [
    {
     "name": "stdout",
     "output_type": "stream",
     "text": [
      "Amount of words: 576850\n"
     ]
    }
   ],
   "source": [
    "corpus_name = \"wiki-he\"\n",
    "# model_path = get_path(corpus_name, \"sg.model\")\n",
    "# model = loader.load_w2v_model(model_path)\n",
    "\n",
    "# model_path = get_path(corpus_name, \"sg.kv\")\n",
    "# model_path = get_path(corpus_name, \"fasttext.kv\")\n",
    "model_path = get_path(corpus_name, \"cbow.kv\")\n",
    "model = loader.load_kv(model_path)\n",
    "print(f\"Amount of words: {len(model.index_to_key)}\")"
   ],
   "metadata": {
    "collapsed": false,
    "pycharm": {
     "name": "#%%\n"
    }
   }
  },
  {
   "cell_type": "code",
   "execution_count": null,
   "outputs": [],
   "source": [
    "def similarities_to_words(similarities: Iterable[Tuple[str, float]]) -> List[str]:\n",
    "    return [word for word, _ in similarities]"
   ],
   "metadata": {
    "collapsed": false,
    "pycharm": {
     "name": "#%%\n"
    }
   }
  },
  {
   "cell_type": "code",
   "execution_count": null,
   "metadata": {
    "collapsed": false
   },
   "outputs": [],
   "source": [
    "model.doesnt_match(\"ביבי נתניהו ליכוד עבודה\".split())"
   ]
  },
  {
   "cell_type": "code",
   "execution_count": 5,
   "outputs": [
    {
     "data": {
      "text/plain": "[('הדיפלומטים', 0.7736315727233887),\n ('הנציגים', 0.7611656188964844),\n ('המנהיגים', 0.7433628439903259),\n ('נציגיה', 0.7385509014129639),\n ('הפרלמנטים', 0.7137118577957153),\n ('הקונסולים', 0.7130063772201538),\n ('הפקידים', 0.7021923661231995),\n ('נציגיהם', 0.6910077929496765),\n ('המושלים', 0.6887619495391846),\n ('הדומיניונים', 0.6856163144111633)]"
     },
     "execution_count": 5,
     "metadata": {},
     "output_type": "execute_result"
    }
   ],
   "source": [
    "model.most_similar(\"השגרירים\")"
   ],
   "metadata": {
    "collapsed": false,
    "pycharm": {
     "name": "#%%\n"
    }
   }
  },
  {
   "cell_type": "code",
   "execution_count": null,
   "metadata": {
    "collapsed": false
   },
   "outputs": [],
   "source": [
    "model.doesnt_match(\"לילה בוקר ערב צהריים טוגנים\".split())"
   ]
  },
  {
   "cell_type": "code",
   "execution_count": null,
   "metadata": {
    "collapsed": false
   },
   "outputs": [],
   "source": [
    "model.doesnt_match(\"סוס כלב ציפור אריות לוויתנ חתול צלחת\".split())"
   ]
  },
  {
   "cell_type": "code",
   "execution_count": null,
   "metadata": {
    "collapsed": false
   },
   "outputs": [],
   "source": [
    "similarities_to_words(model.most_similar(\"אסף\", topn=8))"
   ]
  },
  {
   "cell_type": "code",
   "execution_count": null,
   "metadata": {
    "collapsed": false
   },
   "outputs": [],
   "source": [
    "similarities_to_words(model.most_similar(\"אישה\", topn=8))"
   ]
  },
  {
   "cell_type": "code",
   "execution_count": null,
   "outputs": [],
   "source": [
    "similarities_to_words(model.most_similar(\"שב\", topn=8))"
   ],
   "metadata": {
    "collapsed": false,
    "pycharm": {
     "name": "#%%\n"
    }
   }
  },
  {
   "cell_type": "code",
   "execution_count": null,
   "metadata": {
    "collapsed": false
   },
   "outputs": [],
   "source": [
    "model.similarity(\"גבר\", \"אישה\")"
   ]
  },
  {
   "cell_type": "code",
   "execution_count": null,
   "metadata": {
    "collapsed": false
   },
   "outputs": [],
   "source": [
    "model.similarity(\"ילד\", \"אישה\")"
   ]
  },
  {
   "cell_type": "code",
   "execution_count": null,
   "metadata": {
    "collapsed": false
   },
   "outputs": [],
   "source": [
    "model.similarity(\"יפה\", \"אישה\")"
   ]
  },
  {
   "cell_type": "code",
   "execution_count": 37,
   "metadata": {
    "collapsed": false
   },
   "outputs": [
    {
     "data": {
      "text/plain": "[('מלכה', 0.6168884634971619),\n ('מלכת', 0.6123605966567993),\n ('נסיכה', 0.5947827100753784),\n ('ממלכת', 0.5899961590766907),\n ('מלכי', 0.5894045829772949)]"
     },
     "execution_count": 37,
     "metadata": {},
     "output_type": "execute_result"
    }
   ],
   "source": [
    "model.most_similar(positive=[\"אישה\", \"מלך\"], negative=[\"גבר\"], topn=5)"
   ]
  },
  {
   "cell_type": "code",
   "execution_count": 36,
   "metadata": {
    "collapsed": false
   },
   "outputs": [
    {
     "data": {
      "text/plain": "[('אתיופיה', 0.7432057857513428),\n ('תימן', 0.6925019025802612),\n ('מרוקו', 0.6888713240623474),\n ('מצרים', 0.6640927791595459),\n ('ישראל', 0.6370895504951477)]"
     },
     "execution_count": 36,
     "metadata": {},
     "output_type": "execute_result"
    }
   ],
   "source": [
    "model.most_similar(positive=[\"ירושלים\", \"גרמניה\"], negative=[\"ברלין\"], topn=5)"
   ]
  },
  {
   "cell_type": "code",
   "execution_count": 38,
   "metadata": {
    "collapsed": false
   },
   "outputs": [
    {
     "data": {
      "text/plain": "[('אנגליה', 0.8455228209495544),\n ('בריטניה', 0.8186883330345154),\n ('הולנד', 0.8031383156776428),\n ('אירלנד', 0.7887110710144043),\n ('אוסטרליה', 0.7855907082557678)]"
     },
     "execution_count": 38,
     "metadata": {},
     "output_type": "execute_result"
    }
   ],
   "source": [
    "model.most_similar(positive=[\"לונדון\", \"גרמניה\"], negative=[\"ברלין\"], topn=5)"
   ]
  },
  {
   "cell_type": "code",
   "execution_count": null,
   "metadata": {
    "collapsed": false
   },
   "outputs": [],
   "source": [
    "similarities_to_words(model.most_similar(positive=[\"אוסלו\", \"גרמניה\"], negative=[\"ברלין\"], topn=5))"
   ]
  },
  {
   "cell_type": "code",
   "execution_count": null,
   "metadata": {
    "collapsed": true,
    "pycharm": {
     "name": "#%%\n"
    }
   },
   "outputs": [],
   "source": [
    "similarities_to_words(model.most_similar(positive=[\"שמש\", \"שבתאי\", \"צדק\"], topn=5))"
   ]
  },
  {
   "cell_type": "code",
   "execution_count": null,
   "outputs": [],
   "source": [
    "def norm(x):\n",
    "    return np.linalg.norm(x)\n",
    "\n",
    "\n",
    "def normalize(x):\n",
    "    return x / norm(x)\n",
    "\n",
    "\n",
    "def cosine_similarity(u, v) -> float:\n",
    "    u = normalize(u)\n",
    "    v = normalize(v)\n",
    "    return u.T @ v\n",
    "\n",
    "\n",
    "word1 = normalize(model[\"מכונית\"])\n",
    "word2 = normalize(model[\"המכונית\"])\n",
    "word5 = normalize(model[\"מטוס\"])\n",
    "word3 = normalize(model[\"כן\"])\n",
    "word4 = normalize(model[\"גזוזטרה\"])\n",
    "pi = normalize(model[\"לבלב\"])\n",
    "start = normalize(model[\"איתי\"])\n",
    "\n",
    "print(similarities_to_words(model.most_similar(-start)))\n",
    "\n",
    "x = model[\"הקלוויניזם\"]\n",
    "print(cosine_similarity(x, model[\"איתי\"]))"
   ],
   "metadata": {
    "collapsed": false,
    "pycharm": {
     "name": "#%%\n"
    }
   }
  },
  {
   "cell_type": "code",
   "execution_count": null,
   "outputs": [],
   "source": [
    "# print(model.most_similar(positive=[\"מלך\", \"נקבה\"], negative=[\"זכר\"]))\n",
    "w1 = model[\"מלך\"]\n",
    "w2 = model[\"נקבה\"]\n",
    "w3 = model[\"גבר\"]\n",
    "# print(\"\\n\\n\")\n",
    "result = (w1 + w2 - w3) / 3\n",
    "print(model.most_similar(result))"
   ],
   "metadata": {
    "collapsed": false,
    "pycharm": {
     "name": "#%%\n"
    }
   }
  },
  {
   "cell_type": "code",
   "execution_count": null,
   "outputs": [],
   "source": [
    "y = model[\"עלמי\"]\n",
    "print(cosine_similarity(r, y))"
   ],
   "metadata": {
    "collapsed": false,
    "pycharm": {
     "name": "#%%\n"
    }
   }
  }
 ],
 "metadata": {
  "interpreter": {
   "hash": "6e8222c86223522c750cbbc2c96d298f9dfae65b40cd1567f83c74c61183bce8"
  },
  "kernelspec": {
   "name": "python3810jvsc74a57bd06e8222c86223522c750cbbc2c96d298f9dfae65b40cd1567f83c74c61183bce8",
   "language": "python",
   "display_name": "Python 3.8.10 64-bit ('model-trainer': venv)"
  },
  "language_info": {
   "codemirror_mode": {
    "name": "ipython",
    "version": 3
   },
   "file_extension": ".py",
   "mimetype": "text/x-python",
   "name": "python",
   "nbconvert_exporter": "python",
   "pygments_lexer": "ipython3",
   "version": "3.8.10"
  }
 },
 "nbformat": 4,
 "nbformat_minor": 0
}
