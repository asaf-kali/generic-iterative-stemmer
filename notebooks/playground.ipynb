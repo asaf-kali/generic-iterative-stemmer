{
 "cells": [
  {
   "cell_type": "code",
   "execution_count": 1,
   "outputs": [
    {
     "name": "stdout",
     "output_type": "stream",
     "text": [
      "/home/akali/projects/model-trainer\n"
     ]
    }
   ],
   "source": [
    "%cd \"../\""
   ],
   "metadata": {
    "collapsed": false,
    "pycharm": {
     "name": "#%%\n"
    }
   }
  },
  {
   "cell_type": "code",
   "execution_count": 23,
   "outputs": [
    {
     "name": "stdout",
     "output_type": "stream",
     "text": [
      "/home/akali/projects/model-trainer\n"
     ]
    }
   ],
   "source": [
    "# %cd \"model-trainer\""
   ],
   "metadata": {
    "collapsed": false,
    "pycharm": {
     "name": "#%%\n"
    }
   }
  },
  {
   "cell_type": "code",
   "execution_count": 3,
   "outputs": [
    {
     "name": "stdout",
     "output_type": "stream",
     "text": [
      "[01:41:23] Logging configured [generic_iterative_stemmer.utils.logging]\n"
     ]
    }
   ],
   "source": [
    "from typing import List, Tuple, Iterable\n",
    "\n",
    "import numpy as np\n",
    "\n",
    "from generic_iterative_stemmer.utils import get_path, loader, configure_logging\n",
    "\n",
    "configure_logging()"
   ],
   "metadata": {
    "collapsed": false,
    "pycharm": {
     "name": "#%%\n"
    }
   }
  },
  {
   "cell_type": "code",
   "execution_count": 4,
   "outputs": [
    {
     "name": "stdout",
     "output_type": "stream",
     "text": [
      "[01:41:25] loading KeyedVectors object from ./data/wiki-he-200/cbow.kv [gensim.utils]\n",
      "[01:41:26] loading vectors from ./data/wiki-he-200/cbow.kv.vectors.npy with mmap=None [gensim.utils]\n",
      "[01:41:26] KeyedVectors lifecycle event {'fname': './data/wiki-he-200/cbow.kv', 'datetime': '2022-01-23T01:41:26.654841', 'gensim': '4.1.2', 'python': '3.8.10 (default, Sep 28 2021, 16:10:42) \\n[GCC 9.3.0]', 'platform': 'Linux-5.11.0-40-generic-x86_64-with-glibc2.29', 'event': 'loaded'} [gensim.utils]\n",
      "[01:41:26] Vectors loaded [generic_iterative_stemmer.utils.loader]\n",
      "Amount of words: 509815\n"
     ]
    }
   ],
   "source": [
    "corpus_name = \"wiki-he-200\"\n",
    "# model_path = get_path(corpus_name, \"sg.model\")\n",
    "# model_path = get_path(corpus_name, \"ft.kv\")\n",
    "model_path = get_path(corpus_name, \"cbow.kv\")\n",
    "\n",
    "model = loader.load_kv(model_path)\n",
    "print(f\"Amount of words: {len(model.index_to_key)}\")"
   ],
   "metadata": {
    "collapsed": false,
    "pycharm": {
     "name": "#%%\n"
    }
   }
  },
  {
   "cell_type": "code",
   "execution_count": 5,
   "outputs": [],
   "source": [
    "def similarities_to_words(similarities: Iterable[Tuple[str, float]]) -> List[str]:\n",
    "    return [word for word, _ in similarities]"
   ],
   "metadata": {
    "collapsed": false,
    "pycharm": {
     "name": "#%%\n"
    }
   }
  },
  {
   "cell_type": "code",
   "execution_count": 6,
   "metadata": {
    "collapsed": false
   },
   "outputs": [
    {
     "data": {
      "text/plain": "'עבודה'"
     },
     "execution_count": 6,
     "metadata": {},
     "output_type": "execute_result"
    }
   ],
   "source": [
    "model.doesnt_match(\"ביבי נתניהו ליכוד עבודה\".split())"
   ]
  },
  {
   "cell_type": "code",
   "execution_count": 8,
   "outputs": [
    {
     "data": {
      "text/plain": "[('הדיפלומטימ', 0.7384313941001892),\n ('המנהיגימ', 0.7338045239448547),\n ('הנציגימ', 0.7001058459281921),\n ('הפקידימ', 0.6562299132347107),\n ('הקונסולימ', 0.6477627158164978),\n ('נציגיה', 0.6325471997261047),\n ('הנסיכימ', 0.6295273900032043),\n ('הפרלמנטימ', 0.6250351071357727),\n ('הנציבימ', 0.6146775484085083),\n ('המושלימ', 0.6105095148086548)]"
     },
     "execution_count": 8,
     "metadata": {},
     "output_type": "execute_result"
    }
   ],
   "source": [
    "model.most_similar(\"השגרירימ\")"
   ],
   "metadata": {
    "collapsed": false,
    "pycharm": {
     "name": "#%%\n"
    }
   }
  },
  {
   "cell_type": "code",
   "execution_count": 10,
   "metadata": {
    "collapsed": false
   },
   "outputs": [
    {
     "data": {
      "text/plain": "'טוגנימ'"
     },
     "execution_count": 10,
     "metadata": {},
     "output_type": "execute_result"
    }
   ],
   "source": [
    "model.doesnt_match(\"לילה בוקר ערב צהריימ טוגנימ\".split())"
   ]
  },
  {
   "cell_type": "code",
   "execution_count": 11,
   "metadata": {
    "collapsed": false
   },
   "outputs": [
    {
     "data": {
      "text/plain": "'צלחת'"
     },
     "execution_count": 11,
     "metadata": {},
     "output_type": "execute_result"
    }
   ],
   "source": [
    "model.doesnt_match(\"סוס כלב ציפור אריות לוויתנ חתול צלחת\".split())"
   ]
  },
  {
   "cell_type": "code",
   "execution_count": 13,
   "metadata": {
    "collapsed": false
   },
   "outputs": [
    {
     "data": {
      "text/plain": "['ואספ', 'אבישי', 'יותמ', 'רועי', 'נדב', 'אלירנ', 'איתמר', 'ועידו']"
     },
     "execution_count": 13,
     "metadata": {},
     "output_type": "execute_result"
    }
   ],
   "source": [
    "similarities_to_words(model.most_similar(\"אספ\", topn=8))"
   ]
  },
  {
   "cell_type": "code",
   "execution_count": 14,
   "metadata": {
    "collapsed": false
   },
   "outputs": [
    {
     "data": {
      "text/plain": "['אשה', 'נערה', 'אלמנה', 'בחורה', 'שפחה', 'כאישה', 'באישה', 'ילדה']"
     },
     "execution_count": 14,
     "metadata": {},
     "output_type": "execute_result"
    }
   ],
   "source": [
    "similarities_to_words(model.most_similar(\"אישה\", topn=8))"
   ]
  },
  {
   "cell_type": "code",
   "execution_count": 15,
   "outputs": [
    {
     "data": {
      "text/plain": "['חזר', 'נסע', 'וחזר', 'עבר', 'נשלח', 'ושב', 'הוחזר', 'שחזר']"
     },
     "execution_count": 15,
     "metadata": {},
     "output_type": "execute_result"
    }
   ],
   "source": [
    "similarities_to_words(model.most_similar(\"שב\", topn=8))"
   ],
   "metadata": {
    "collapsed": false,
    "pycharm": {
     "name": "#%%\n"
    }
   }
  },
  {
   "cell_type": "code",
   "execution_count": null,
   "metadata": {
    "collapsed": false
   },
   "outputs": [],
   "source": [
    "model.similarity(\"גבר\", \"אישה\")"
   ]
  },
  {
   "cell_type": "code",
   "execution_count": null,
   "metadata": {
    "collapsed": false
   },
   "outputs": [],
   "source": [
    "model.similarity(\"ילד\", \"אישה\")"
   ]
  },
  {
   "cell_type": "code",
   "execution_count": null,
   "metadata": {
    "collapsed": false
   },
   "outputs": [],
   "source": [
    "model.similarity(\"יפה\", \"אישה\")"
   ]
  },
  {
   "cell_type": "code",
   "execution_count": 17,
   "metadata": {
    "collapsed": false
   },
   "outputs": [
    {
     "data": {
      "text/plain": "[('מלכה', 0.5749139785766602),\n ('מלכת', 0.553459644317627),\n ('המלכ', 0.5449637174606323),\n ('למלכ', 0.5346361398696899),\n ('נסיכה', 0.531715452671051)]"
     },
     "execution_count": 17,
     "metadata": {},
     "output_type": "execute_result"
    }
   ],
   "source": [
    "model.most_similar(positive=[\"אישה\", \"מלכ\"], negative=[\"גבר\"], topn=5)"
   ]
  },
  {
   "cell_type": "code",
   "execution_count": 55,
   "metadata": {
    "collapsed": false
   },
   "outputs": [
    {
     "data": {
      "text/plain": "[('ישראל', 0.5814520120620728),\n ('מצרימ', 0.5735619068145752),\n ('ירדנ', 0.5583893060684204),\n ('סוריה', 0.5413230061531067),\n ('לוב', 0.5405650734901428),\n ('מרוקו', 0.525947630405426),\n ('סעודיה', 0.5218314528465271),\n ('איראנ', 0.5145543217658997),\n ('עיראק', 0.5017952919006348),\n ('אשור', 0.5016753077507019)]"
     },
     "execution_count": 55,
     "metadata": {},
     "output_type": "execute_result"
    }
   ],
   "source": [
    "model.most_similar(positive=[\"ירושלימ\", \"בריטניה\"], negative=[\"לונדונ\"], topn=10)"
   ]
  },
  {
   "cell_type": "code",
   "execution_count": 56,
   "metadata": {
    "collapsed": false
   },
   "outputs": [
    {
     "data": {
      "text/plain": "[('אנגליה', 0.7499414682388306),\n ('בריטניה', 0.6837009191513062),\n ('סקוטלנד', 0.6799903512001038),\n ('אירלנד', 0.6760604977607727),\n ('אוסטרליה', 0.6554287672042847)]"
     },
     "execution_count": 56,
     "metadata": {},
     "output_type": "execute_result"
    }
   ],
   "source": [
    "model.most_similar(positive=[\"לונדונ\", \"גרמניה\"], negative=[\"ברלינ\"], topn=5)"
   ]
  },
  {
   "cell_type": "code",
   "execution_count": 62,
   "metadata": {
    "collapsed": false
   },
   "outputs": [
    {
     "data": {
      "text/plain": "['נורווגיה', 'דנמרק', 'סודאנ', 'ירדנ', 'שוודיה']"
     },
     "execution_count": 62,
     "metadata": {},
     "output_type": "execute_result"
    }
   ],
   "source": [
    "similarities_to_words(model.most_similar(positive=[\"אוסלו\", \"צרפת\"], negative=[\"פריז\"], topn=5))"
   ]
  },
  {
   "cell_type": "code",
   "execution_count": 50,
   "outputs": [
    {
     "data": {
      "text/plain": "['וטרינר', 'גינקולוג', 'פסיכיאטר', 'כירורג', 'אורתופד']"
     },
     "execution_count": 50,
     "metadata": {},
     "output_type": "execute_result"
    }
   ],
   "source": [
    "similarities_to_words(model.most_similar(positive=[\"חיות\", \"רופא\"], topn=5))"
   ],
   "metadata": {
    "collapsed": false,
    "pycharm": {
     "name": "#%%\n"
    }
   }
  },
  {
   "cell_type": "code",
   "execution_count": 64,
   "outputs": [
    {
     "data": {
      "text/plain": "['מורה', 'בבית-ספר', 'וטרינר', 'מחנכ', 'וכומר']"
     },
     "execution_count": 64,
     "metadata": {},
     "output_type": "execute_result"
    }
   ],
   "source": [
    "similarities_to_words(model.most_similar(positive=[\"בית-ספר\", \"רופא\"], negative=[\"רפואה\"], topn=5))"
   ],
   "metadata": {
    "collapsed": false,
    "pycharm": {
     "name": "#%%\n"
    }
   }
  },
  {
   "cell_type": "code",
   "execution_count": null,
   "metadata": {
    "collapsed": true,
    "pycharm": {
     "name": "#%%\n"
    }
   },
   "outputs": [],
   "source": [
    "similarities_to_words(model.most_similar(positive=[\"שמש\", \"שבתאי\", \"צדק\"], topn=5))"
   ]
  },
  {
   "cell_type": "code",
   "execution_count": 46,
   "outputs": [
    {
     "name": "stdout",
     "output_type": "stream",
     "text": [
      "['הקתוליות', 'הפרוטסטנטיות', 'בוויילס', 'ואונטריו', 'האנגליקנית', 'באמריקות', 'הקנדיות', 'הקולוניאלית', 'בפרובינציות', 'הפרוטסטנטית']\n",
      "-0.29691648\n"
     ]
    }
   ],
   "source": [
    "def norm(x):\n",
    "    return np.linalg.norm(x)\n",
    "\n",
    "\n",
    "def normalize(x):\n",
    "    return x / norm(x)\n",
    "\n",
    "\n",
    "def cosine_similarity(u, v) -> float:\n",
    "    u = normalize(u)\n",
    "    v = normalize(v)\n",
    "    return u.T @ v\n",
    "\n",
    "\n",
    "word1 = normalize(model[\"מכונית\"])\n",
    "word2 = normalize(model[\"המכונית\"])\n",
    "word5 = normalize(model[\"מטוס\"])\n",
    "word3 = normalize(model[\"כנ\"])\n",
    "word4 = normalize(model[\"גזוזטרה\"])\n",
    "pi = normalize(model[\"לבלב\"])\n",
    "start = normalize(model[\"איתי\"])\n",
    "\n",
    "print(similarities_to_words(model.most_similar(-start)))\n",
    "\n",
    "x = model[\"הקלוויניזמ\"]\n",
    "print(cosine_similarity(x, model[\"איתי\"]))"
   ],
   "metadata": {
    "collapsed": false,
    "pycharm": {
     "name": "#%%\n"
    }
   }
  },
  {
   "cell_type": "code",
   "execution_count": null,
   "outputs": [],
   "source": [
    "# print(model.most_similar(positive=[\"מלך\", \"נקבה\"], negative=[\"זכר\"]))\n",
    "w1 = model[\"מלך\"]\n",
    "w2 = model[\"נקבה\"]\n",
    "w3 = model[\"גבר\"]\n",
    "# print(\"\\n\\n\")\n",
    "result = (w1 + w2 - w3) / 3\n",
    "print(model.most_similar(result))"
   ],
   "metadata": {
    "collapsed": false,
    "pycharm": {
     "name": "#%%\n"
    }
   }
  },
  {
   "cell_type": "code",
   "execution_count": null,
   "outputs": [],
   "source": [
    "y = model[\"עלמי\"]\n",
    "print(cosine_similarity(r, y))"
   ],
   "metadata": {
    "collapsed": false,
    "pycharm": {
     "name": "#%%\n"
    }
   }
  }
 ],
 "metadata": {
  "interpreter": {
   "hash": "6e8222c86223522c750cbbc2c96d298f9dfae65b40cd1567f83c74c61183bce8"
  },
  "kernelspec": {
   "name": "python3810jvsc74a57bd06e8222c86223522c750cbbc2c96d298f9dfae65b40cd1567f83c74c61183bce8",
   "language": "python",
   "display_name": "Python 3.8.10 64-bit ('model-trainer': venv)"
  },
  "language_info": {
   "codemirror_mode": {
    "name": "ipython",
    "version": 3
   },
   "file_extension": ".py",
   "mimetype": "text/x-python",
   "name": "python",
   "nbconvert_exporter": "python",
   "pygments_lexer": "ipython3",
   "version": "3.8.10"
  }
 },
 "nbformat": 4,
 "nbformat_minor": 0
}