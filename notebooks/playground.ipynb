{
 "cells": [
  {
   "cell_type": "code",
   "execution_count": 160,
   "metadata": {
    "collapsed": false
   },
   "outputs": [
    {
     "data": {
      "text/plain": "<module 'model_trainer.loader' from '/home/akali/projects/model-trainer/model_trainer/loader.py'>"
     },
     "execution_count": 160,
     "metadata": {},
     "output_type": "execute_result"
    }
   ],
   "source": [
    "import importlib\n",
    "\n",
    "from model_trainer import loader\n",
    "from model_trainer.config import get_path\n",
    "\n",
    "importlib.reload(loader)"
   ]
  },
  {
   "cell_type": "code",
   "execution_count": 161,
   "metadata": {
    "collapsed": true
   },
   "outputs": [
    {
     "name": "stdout",
     "output_type": "stream",
     "text": [
      "[23:40:06] loading KeyedVectors object from ./data/wiki-he/fasttext.kv [gensim.utils]\n",
      "[23:40:07] loading vectors_vocab from ./data/wiki-he/fasttext.kv.vectors_vocab.npy with mmap=None [gensim.utils]\n",
      "[23:40:07] loading vectors_ngrams from ./data/wiki-he/fasttext.kv.vectors_ngrams.npy with mmap=None [gensim.utils]\n",
      "[23:40:08] setting ignored attribute vectors to None [gensim.utils]\n",
      "[23:40:08] setting ignored attribute buckets_word to None [gensim.utils]\n",
      "[23:40:32] FastTextKeyedVectors lifecycle event {'fname': './data/wiki-he/fasttext.kv', 'datetime': '2021-12-05T23:40:32.686456', 'gensim': '4.1.2', 'python': '3.8.10 (default, Sep 28 2021, 16:10:42) \\n[GCC 9.3.0]', 'platform': 'Linux-5.11.0-40-generic-x86_64-with-glibc2.29', 'event': 'loaded'} [gensim.utils]\n",
      "[23:40:32] Vectors loaded [model_trainer.word2vec]\n"
     ]
    }
   ],
   "source": [
    "# kv_path = get_path(\"wiki-he\", \"cbow.kv\")\n",
    "# model = word2vec.load_vectors_from_kv(kv_path)\n",
    "\n",
    "fasttext_path = get_path(\"wiki-he\", \"fasttext.kv\")\n",
    "model = loader.load_kv(fasttext_path)"
   ]
  },
  {
   "cell_type": "code",
   "execution_count": 163,
   "metadata": {
    "collapsed": false
   },
   "outputs": [
    {
     "name": "stdout",
     "output_type": "stream",
     "text": [
      "Amount of words: 576851\n",
      "[ 1.3312529   3.4975986  -4.7422714   5.2837734  -0.06244779  3.5932856\n",
      " -0.11250651  0.860017   -2.031468   -1.3116622  -0.5655908  -0.5859167\n",
      "  3.2763462   3.169547    2.9324753  -2.7874572   1.7348007   4.4629574\n",
      " -6.2901425   5.383025    0.55086416 -4.1637683  -0.24612851 -2.5631456\n",
      " -1.1196594   0.02866685  2.3461397  -0.8589877  -0.143399   -0.9441439\n",
      "  0.72111565 -2.3267193   0.5752375  -1.4162408   1.4607201   3.3185678\n",
      " -5.973834   -6.4614024   3.053297    2.1707282   5.651988   -8.205492\n",
      "  8.583032    3.5148022  -0.2412216  -5.2787943  -0.41264868 -0.42596376\n",
      "  1.7967277   3.8053498   2.8771048  -5.3428774  -3.6966453   0.6849396\n",
      " -1.5634933   0.8407028   3.6885085  -2.3858416  -0.6569495  -6.8620734\n",
      " -0.5076263   1.8975904  -4.606907   -0.7496722  -3.0660214  -1.9666091\n",
      "  0.3843814  -3.5285397   6.4833174  -3.9800024   3.0902872   1.088029\n",
      "  0.7522378   1.8162744   1.2223233   1.7581046  -2.2839231   0.7284087\n",
      "  3.170791   -2.782071   -0.37312323 -0.80707765  5.1162167   5.8261366\n",
      " -0.49843103 -5.7411036   2.461333    4.1709723   0.25245094  0.77485454\n",
      "  1.7843695  -1.6023446  -2.4566393  -0.5343329  -4.7185283  -3.6687186\n",
      "  0.31799462  1.4732479  -5.093043    0.542416  ]\n",
      "[-9.9652433e-01 -1.2586014e-02  1.0875990e+00  2.5232470e+00\n",
      " -1.1753713e+00  1.1941001e+00 -2.6503034e+00 -1.1916329e+00\n",
      " -3.1458178e-01 -2.6669536e+00 -1.5722474e+00 -1.4018301e+00\n",
      " -1.2156477e+00  3.4805062e+00 -1.8443688e+00  3.4772816e+00\n",
      "  2.3412783e+00  2.1901932e+00  5.9819393e-02 -2.3777468e+00\n",
      " -1.6560673e+00 -1.6746551e+00  2.0901320e+00  2.2218120e+00\n",
      " -1.1484387e-01 -1.0673146e+00 -1.9944544e+00 -3.0690607e-01\n",
      " -8.2791263e-01  1.4015002e+00 -3.1939292e-01  1.8851936e+00\n",
      " -1.0477345e+00  2.1503925e+00 -1.0370858e+00 -3.4668866e-01\n",
      " -6.0731202e-01  7.4456805e-01  3.0936522e+00 -5.0175530e-01\n",
      " -8.5210484e-01  1.7861557e-01  6.2035471e-01 -2.2943881e+00\n",
      "  3.5374957e-01 -2.8297145e+00 -9.4132268e-01 -1.1350532e+00\n",
      " -1.3588082e+00  8.1318170e-01  4.4352970e-01  5.6590247e-01\n",
      " -8.6032785e-02 -1.0279491e+00 -2.6104028e+00 -1.7894937e+00\n",
      "  1.0984993e-01  2.3490832e+00  1.7604892e-01 -1.3759512e+00\n",
      " -1.8203354e+00  1.3856380e+00 -2.4122524e+00 -1.4555109e+00\n",
      " -1.2173562e+00 -1.5445913e+00  4.2354593e+00  1.4892853e+00\n",
      " -8.4062660e-01 -2.0479276e+00  2.3073959e-01  3.8713217e+00\n",
      " -1.6359779e+00  3.4173067e+00 -6.2100261e-01 -4.4109026e-01\n",
      " -1.9116547e+00  1.5525686e+00  2.9767737e+00 -1.5834991e+00\n",
      " -1.0200834e+00  5.7657415e-01 -1.7591269e+00  7.3559535e-01\n",
      " -3.3696619e-01 -1.0665251e+00  3.0218029e+00  8.9775503e-02\n",
      "  1.8315560e+00  1.1975459e+00  2.4554622e+00 -1.8567139e+00\n",
      " -1.2945335e+00 -4.2364240e-01  2.8276062e+00  7.5499624e-01\n",
      "  2.5049706e-03 -2.1938329e+00 -4.6423631e+00  1.6165380e+00]\n",
      "[ 1.1456159   3.3509808  -1.4634079   1.9880227  -0.35655287 -0.99798244\n",
      "  0.19337752 -0.2589452  -0.23468089  1.804455    1.4089804  -3.6596248\n",
      " -0.39483503  0.41932705  1.7464297   3.0216024  -0.7413494   1.5701762\n",
      " -0.11913701  3.8568647   0.60076946  1.1671284   0.32317385  0.7896415\n",
      " -0.17820509  1.5699109   2.0629137   0.29001948  0.27145904  0.7868307\n",
      "  2.3901503   0.2849584   2.8578017   0.23129095 -0.5335549   2.769199\n",
      " -0.9150261  -0.9803777  -0.8006443  -0.5404082  -0.88488424  1.0150858\n",
      "  3.684343   -1.411702    1.1160048   0.28588563 -1.446524    1.9850721\n",
      "  3.2627795   3.531523    0.3760058  -1.0271652  -0.37341064  0.5503561\n",
      "  4.264226   -2.9329991  -2.039492   -2.6939392  -0.2504992  -0.18033671\n",
      "  0.90794986  3.0088782  -0.64559233  0.836753   -1.4634149   1.4510347\n",
      "  0.15991619 -0.12829502  3.35882     3.53968     0.08893585 -0.22222292\n",
      " -0.42918333 -1.1295545   2.1016567   0.40616697 -0.1893297  -4.377436\n",
      "  1.0923721   2.9050674   1.0515982  -0.11482222  0.07220895  1.856001\n",
      "  2.626496    2.974296   -0.9611736  -0.20425068 -0.1505206   0.15389441\n",
      " -0.27280375  2.1462188  -2.5120943   4.2482266   2.1053798  -0.47875616\n",
      "  0.5266833  -0.17506967  0.6015949   0.1818396 ]\n",
      "[-2.2307339   0.35166156 -1.2833948   3.419083    1.1399776   2.6151643\n",
      "  0.6643513  -6.5678077   1.8133583  -2.2441578   4.54045    -3.7028906\n",
      "  0.50770885  3.5316525   4.144623    2.2635617   0.6000614   4.5548596\n",
      " -1.4670402   1.9180372   0.4211657   0.49952173  0.8260544   2.6349604\n",
      " -3.409543    2.5090494   4.0906615   2.386359    4.0943522  -4.507522\n",
      "  1.5537009   0.76869607 -2.440373    0.7491987  -4.0708523  -2.7242935\n",
      " -0.97886    -0.8993424   6.8790307   6.0929694   2.1244907  -1.2070525\n",
      "  4.5176177   8.288898   -5.325142   -3.0843492  -2.3067265   1.3382246\n",
      " -0.53153116  5.336417    0.75896513 -5.661051   -0.13521796  4.322151\n",
      "  0.10559219  3.378746   -0.7725041   1.9247139   5.423212    0.03026956\n",
      "  2.3350024  -0.3574307  -1.340637    2.2359762  -7.4382553  -4.7300134\n",
      " -0.3901962  -7.3247814   2.932307   -2.474649    4.0648227   1.4107832\n",
      " -2.9781866  -0.2400865  -2.9586895   3.5660758  -2.7206807  -4.670737\n",
      " -3.379263   -3.3824453   3.7447777  -4.257787    1.6241677   3.5871613\n",
      "  4.188155   -1.1238279  -0.83298886  7.5765133   1.0556593   1.9206002\n",
      "  5.5365696   0.77288675 -3.627953   -4.1585565   3.2568848   0.81266725\n",
      " -5.530567    3.3635879   1.0494561  -0.2873006 ]\n",
      "[  0.17310473  10.230488     7.8250904   -2.3232183   -0.2933818\n",
      "  -0.5222964    0.66977626  -3.9452639    0.84791946   1.5101267\n",
      "  -0.4987132   -0.01974666   0.99215025   3.113539     0.9920119\n",
      "   1.4893472    1.1818032    1.9519272    2.5748904    6.7464066\n",
      "   2.079892     4.365102    -2.143444    -1.8709439   -0.5319711\n",
      "   5.736046     6.1035495    0.5681701   -1.3341856   -0.7017379\n",
      "   2.3973277   -1.6635255    0.68502957  -4.3651295    2.739575\n",
      "  -0.05295476   0.5749388   -2.7308114    0.38969135  -1.6474258\n",
      "   0.8943033    0.11437845   2.4666371    1.6104262   -0.17927814\n",
      "  -0.573024    -3.9020185    6.546707    -5.629501   -10.108558\n",
      "   2.249847    -6.159923    -1.4286666    6.2437577   -1.0380913\n",
      "   3.2776377    4.8200974   -0.02687693  -2.208825     1.7950623\n",
      "   7.5561557   -6.078472    -0.6340774   -1.08049     -2.2473412\n",
      "  -2.0148215   -2.55682     -6.314202     6.689719     3.8464727\n",
      "   3.0364678    6.106365    -2.5514362    2.3396106    0.8502108\n",
      "   5.0207806   -3.051376    -0.06411004   6.854016     5.9000607\n",
      "   2.279419     1.4172115    4.809996     2.0287116    3.5366325\n",
      "  -2.7736926   -3.3307586    0.69217813  -7.9895506    2.6168587\n",
      "  -0.67370665   1.093455    -7.394886     1.1462642    5.108046\n",
      "  -0.94217116  -3.4214337    2.4886045    5.302175    -6.416751  ]\n"
     ]
    }
   ],
   "source": [
    "print(f\"Amount of words: {len(model.index_to_key)}\")\n",
    "\n",
    "print(model[\"עם\"])\n",
    "print(model[\"קטגוריה\"])\n",
    "print(model[\"הוא\"])\n",
    "print(model[\"על\"])\n",
    "print(model[\"את\"])\n",
    "\n",
    "# note: קטגוריה popularity is due to the Wikipedia bias"
   ]
  },
  {
   "cell_type": "code",
   "execution_count": 164,
   "outputs": [],
   "source": [
    "from typing import List, Tuple, Iterable\n",
    "\n",
    "\n",
    "def similarities_to_words(similarities: Iterable[Tuple[str, float]]) -> List[str]:\n",
    "    return [word for word, _ in similarities]"
   ],
   "metadata": {
    "collapsed": false,
    "pycharm": {
     "name": "#%%\n"
    }
   }
  },
  {
   "cell_type": "code",
   "execution_count": 165,
   "metadata": {
    "collapsed": false
   },
   "outputs": [
    {
     "data": {
      "text/plain": "'עבודה'"
     },
     "execution_count": 165,
     "metadata": {},
     "output_type": "execute_result"
    }
   ],
   "source": [
    "model.doesnt_match(\"ביבי נתניהו ליכוד עבודה\".split())"
   ]
  },
  {
   "cell_type": "code",
   "execution_count": 166,
   "metadata": {
    "collapsed": false
   },
   "outputs": [
    {
     "data": {
      "text/plain": "'טוגנים'"
     },
     "execution_count": 166,
     "metadata": {},
     "output_type": "execute_result"
    }
   ],
   "source": [
    "model.doesnt_match(\"לילה בוקר ערב צהריים טוגנים\".split())"
   ]
  },
  {
   "cell_type": "code",
   "execution_count": 167,
   "metadata": {
    "collapsed": false
   },
   "outputs": [
    {
     "data": {
      "text/plain": "'צלחת'"
     },
     "execution_count": 167,
     "metadata": {},
     "output_type": "execute_result"
    }
   ],
   "source": [
    "model.doesnt_match(\"סוס כלב ציפור אריה לוויתן חתול צלחת\".split())"
   ]
  },
  {
   "cell_type": "code",
   "execution_count": 168,
   "metadata": {
    "collapsed": false
   },
   "outputs": [
    {
     "data": {
      "text/plain": "['אגבר', 'כשגבר', 'הגבר', 'כגבר', 'וכגבר']"
     },
     "execution_count": 168,
     "metadata": {},
     "output_type": "execute_result"
    }
   ],
   "source": [
    "similarities_to_words(model.most_similar(\"גבר\", topn=5))"
   ]
  },
  {
   "cell_type": "code",
   "execution_count": 169,
   "metadata": {
    "collapsed": false
   },
   "outputs": [
    {
     "data": {
      "text/plain": "['אשה', 'קאישה', 'ועאישה', 'שכאישה', 'מואישה']"
     },
     "execution_count": 169,
     "metadata": {},
     "output_type": "execute_result"
    }
   ],
   "source": [
    "similarities_to_words(model.most_similar(\"אישה\", topn=5))"
   ]
  },
  {
   "cell_type": "markdown",
   "source": [],
   "metadata": {
    "collapsed": false,
    "pycharm": {
     "name": "#%% md\n"
    }
   }
  },
  {
   "cell_type": "code",
   "execution_count": 170,
   "metadata": {
    "collapsed": false
   },
   "outputs": [
    {
     "data": {
      "text/plain": "0.5610731"
     },
     "execution_count": 170,
     "metadata": {},
     "output_type": "execute_result"
    }
   ],
   "source": [
    "model.similarity(\"גבר\", \"אישה\")"
   ]
  },
  {
   "cell_type": "code",
   "execution_count": 171,
   "metadata": {
    "collapsed": false
   },
   "outputs": [
    {
     "data": {
      "text/plain": "0.42787546"
     },
     "execution_count": 171,
     "metadata": {},
     "output_type": "execute_result"
    }
   ],
   "source": [
    "model.similarity(\"ילד\", \"אישה\")"
   ]
  },
  {
   "cell_type": "code",
   "execution_count": 172,
   "metadata": {
    "collapsed": false
   },
   "outputs": [
    {
     "data": {
      "text/plain": "0.3673865"
     },
     "execution_count": 172,
     "metadata": {},
     "output_type": "execute_result"
    }
   ],
   "source": [
    "model.similarity(\"יפה\", \"אישה\")"
   ]
  },
  {
   "cell_type": "code",
   "execution_count": 173,
   "metadata": {
    "collapsed": false
   },
   "outputs": [
    {
     "data": {
      "text/plain": "['מלכשאה', 'המלכת', 'מלכה', 'בהמלכת', 'ומלכת']"
     },
     "execution_count": 173,
     "metadata": {},
     "output_type": "execute_result"
    }
   ],
   "source": [
    "similarities_to_words(model.most_similar(positive=[\"אישה\", \"מלך\"], negative=[\"גבר\"], topn=5))"
   ]
  },
  {
   "cell_type": "code",
   "execution_count": 174,
   "metadata": {
    "collapsed": false
   },
   "outputs": [
    {
     "data": {
      "text/plain": "['כירושלים', 'ישראל', 'מצרים', 'ומירושלים', 'וירושלים']"
     },
     "execution_count": 174,
     "metadata": {},
     "output_type": "execute_result"
    }
   ],
   "source": [
    "similarities_to_words(model.most_similar(positive=[\"ירושלים\", \"גרמניה\"], negative=[\"ברלין\"], topn=5))"
   ]
  },
  {
   "cell_type": "code",
   "execution_count": 175,
   "metadata": {
    "collapsed": false
   },
   "outputs": [
    {
     "data": {
      "text/plain": "['אנגליה', 'pxאנגליה', 'בריטניה', 'שבבריטניה', 'אירלנדבריטניה']"
     },
     "execution_count": 175,
     "metadata": {},
     "output_type": "execute_result"
    }
   ],
   "source": [
    "similarities_to_words(model.most_similar(positive=[\"לונדון\", \"גרמניה\"], negative=[\"ברלין\"], topn=5))"
   ]
  },
  {
   "cell_type": "code",
   "execution_count": 176,
   "metadata": {
    "collapsed": false
   },
   "outputs": [
    {
     "data": {
      "text/plain": "['ואוסלו', 'נורווגיה', 'שנורווגיה', 'לאוסלו', 'ונורווגיה']"
     },
     "execution_count": 176,
     "metadata": {},
     "output_type": "execute_result"
    }
   ],
   "source": [
    "similarities_to_words(model.most_similar(positive=[\"אוסלו\", \"גרמניה\"], negative=[\"ברלין\"], topn=5))"
   ]
  },
  {
   "cell_type": "code",
   "execution_count": 177,
   "metadata": {
    "collapsed": true
   },
   "outputs": [
    {
     "data": {
      "text/plain": "['השמש', 'השבתאי', 'ששבתאי', 'גליליאה', 'ושבתאי']"
     },
     "execution_count": 177,
     "metadata": {},
     "output_type": "execute_result"
    }
   ],
   "source": [
    "similarities_to_words(model.most_similar(positive=[\"שמש\", \"שבתאי\", \"צדק\"], topn=5))"
   ]
  },
  {
   "cell_type": "code",
   "execution_count": 178,
   "outputs": [
    {
     "data": {
      "text/plain": "['כדורעף', 'וטניס', 'בטניס', 'מטניס', 'רוגבי']"
     },
     "execution_count": 178,
     "metadata": {},
     "output_type": "execute_result"
    }
   ],
   "source": [
    "similarities_to_words(model.most_similar(positive=[\"טניס\", \"כדורגל\", \"שולחן\"], topn=5))"
   ],
   "metadata": {
    "collapsed": false,
    "pycharm": {
     "name": "#%%\n"
    }
   }
  },
  {
   "cell_type": "code",
   "execution_count": 179,
   "outputs": [
    {
     "data": {
      "text/plain": "['שמים', 'עננים', 'השמים', 'רעננים', 'מגשמים']"
     },
     "execution_count": 179,
     "metadata": {},
     "output_type": "execute_result"
    }
   ],
   "source": [
    "similarities_to_words(model.most_similar(positive=[\"שמש\", \"גשם\", \"שמיים\"], topn=5))"
   ],
   "metadata": {
    "collapsed": false,
    "pycharm": {
     "name": "#%%\n"
    }
   }
  },
  {
   "cell_type": "code",
   "execution_count": 179,
   "outputs": [],
   "source": [],
   "metadata": {
    "collapsed": false,
    "pycharm": {
     "name": "#%%\n"
    }
   }
  }
 ],
 "metadata": {
  "interpreter": {
   "hash": "6e8222c86223522c750cbbc2c96d298f9dfae65b40cd1567f83c74c61183bce8"
  },
  "kernelspec": {
   "display_name": "Python 2",
   "language": "python",
   "name": "python3"
  },
  "language_info": {
   "codemirror_mode": {
    "name": "ipython",
    "version": 3
   },
   "file_extension": ".py",
   "mimetype": "text/x-python",
   "name": "python",
   "nbconvert_exporter": "python",
   "pygments_lexer": "ipython3",
   "version": "3.8.10"
  }
 },
 "nbformat": 4,
 "nbformat_minor": 0
}