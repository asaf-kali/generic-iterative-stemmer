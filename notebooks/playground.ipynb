{
 "cells": [
  {
   "cell_type": "code",
   "execution_count": 1,
   "outputs": [
    {
     "name": "stdout",
     "output_type": "stream",
     "text": [
      "/home/akali/projects/model-trainer\n"
     ]
    }
   ],
   "source": [
    "% cd../"
   ],
   "metadata": {
    "collapsed": false,
    "pycharm": {
     "name": "#%%\n"
    }
   }
  },
  {
   "cell_type": "code",
   "execution_count": 2,
   "outputs": [
    {
     "name": "stdout",
     "output_type": "stream",
     "text": [
      "[23:20:10] Logging configured [utils.logging]\n"
     ]
    },
    {
     "data": {
      "text/plain": "<module 'model_trainer.loader' from '/projects/model-trainer/model_trainer/loader.py'>"
     },
     "execution_count": 2,
     "metadata": {},
     "output_type": "execute_result"
    }
   ],
   "source": [
    "import importlib\n",
    "\n",
    "from generic_iterative_stemmer.utils import get_path, loader\n",
    "\n",
    "importlib.reload(loader)"
   ],
   "metadata": {
    "collapsed": false,
    "pycharm": {
     "name": "#%%\n"
    }
   }
  },
  {
   "cell_type": "markdown",
   "source": [
    "**Load model and save as KV**"
   ],
   "metadata": {
    "collapsed": false,
    "pycharm": {
     "name": "#%% md\n"
    }
   }
  },
  {
   "cell_type": "code",
   "execution_count": 24,
   "outputs": [],
   "source": [
    "corpus_name = \"wiki-he-filtered\""
   ],
   "metadata": {
    "collapsed": false,
    "pycharm": {
     "name": "#%%\n"
    }
   }
  },
  {
   "cell_type": "code",
   "execution_count": 3,
   "outputs": [
    {
     "name": "stdout",
     "output_type": "stream",
     "text": [
      "[23:20:11] loading Word2Vec object from ./data/wiki-he/sg.model [gensim.utils]\n",
      "[23:20:11] loading wv recursively from ./data/wiki-he/sg.model.wv.* with mmap=None [gensim.utils]\n",
      "[23:20:11] loading vectors from ./data/wiki-he/sg.model.wv.vectors.npy with mmap=None [gensim.utils]\n",
      "[23:20:11] loading syn1neg from ./data/wiki-he/sg.model.syn1neg.npy with mmap=None [gensim.utils]\n",
      "[23:20:11] setting ignored attribute cum_table to None [gensim.utils]\n",
      "[23:20:19] Word2Vec lifecycle event {'fname': './data/wiki-he/sg.model', 'datetime': '2021-12-11T23:20:19.963592', 'gensim': '4.1.2', 'python': '3.8.10 (default, Sep 28 2021, 16:10:42) \\n[GCC 9.3.0]', 'platform': 'Linux-5.11.0-40-generic-x86_64-with-glibc2.29', 'event': 'loaded'} [gensim.utils]\n",
      "[23:20:19] word2vec model loaded [model_trainer.word2vec]\n"
     ]
    }
   ],
   "source": [
    "model_path = get_path(corpus_name, \"sg.model\")\n",
    "model = loader.load_w2v_model(model_path)"
   ],
   "metadata": {
    "collapsed": false,
    "pycharm": {
     "name": "#%%\n"
    }
   }
  },
  {
   "cell_type": "code",
   "execution_count": 4,
   "outputs": [
    {
     "name": "stdout",
     "output_type": "stream",
     "text": [
      "[23:20:19] KeyedVectors lifecycle event {'fname_or_handle': './data/wiki-he/sg.kv', 'separately': 'None', 'sep_limit': 10485760, 'ignore': frozenset(), 'datetime': '2021-12-11T23:20:19.970339', 'gensim': '4.1.2', 'python': '3.8.10 (default, Sep 28 2021, 16:10:42) \\n[GCC 9.3.0]', 'platform': 'Linux-5.11.0-40-generic-x86_64-with-glibc2.29', 'event': 'saving'} [gensim.utils]\n",
      "[23:20:19] storing np array 'vectors' to ./data/wiki-he/sg.kv.vectors.npy [gensim.utils]\n",
      "[23:20:20] saved ./data/wiki-he/sg.kv [gensim.utils]\n"
     ]
    }
   ],
   "source": [
    "kv_path = get_path(corpus_name, \"sg.kv\")\n",
    "model.wv.save(kv_path)"
   ],
   "metadata": {
    "collapsed": false,
    "pycharm": {
     "name": "#%%\n"
    }
   }
  },
  {
   "cell_type": "code",
   "execution_count": 28,
   "outputs": [
    {
     "name": "stdout",
     "output_type": "stream",
     "text": [
      "[23:43:35] loading KeyedVectors object from ./data/wiki-he-filtered/cbow.kv [gensim.utils]\n",
      "[23:43:36] loading vectors from ./data/wiki-he-filtered/cbow.kv.vectors.npy with mmap=None [gensim.utils]\n",
      "[23:43:36] KeyedVectors lifecycle event {'fname': './data/wiki-he-filtered/cbow.kv', 'datetime': '2021-12-11T23:43:36.281740', 'gensim': '4.1.2', 'python': '3.8.10 (default, Sep 28 2021, 16:10:42) \\n[GCC 9.3.0]', 'platform': 'Linux-5.11.0-40-generic-x86_64-with-glibc2.29', 'event': 'loaded'} [gensim.utils]\n",
      "[23:43:36] Vectors loaded [model_trainer.word2vec]\n"
     ]
    }
   ],
   "source": [
    "# path = get_path(corpus_name, \"sg.kv\")\n",
    "path = get_path(corpus_name, \"cbow.kv\")\n",
    "# path = get_path(corpus_name, \"fasttext.kv\")\n",
    "\n",
    "model = loader.load_kv(path)"
   ],
   "metadata": {
    "collapsed": false,
    "pycharm": {
     "name": "#%%\n"
    }
   }
  },
  {
   "cell_type": "code",
   "execution_count": 29,
   "metadata": {
    "collapsed": false
   },
   "outputs": [
    {
     "name": "stdout",
     "output_type": "stream",
     "text": [
      "Amount of words: 473539\n"
     ]
    }
   ],
   "source": [
    "print(f\"Amount of words: {len(model.index_to_key)}\")\n",
    "\n",
    "# print(model[\"עם\"])\n",
    "# print(model[\"קטגוריה\"])\n",
    "# print(model[\"הוא\"])\n",
    "# print(model[\"על\"])\n",
    "# print(model[\"את\"])\n",
    "\n",
    "# note: קטגוריה popularity is due to the Wikipedia bias"
   ]
  },
  {
   "cell_type": "code",
   "execution_count": 52,
   "outputs": [],
   "source": [
    "from typing import List, Tuple, Iterable\n",
    "\n",
    "\n",
    "def similarities_to_words(similarities: Iterable[Tuple[str, float]]) -> List[str]:\n",
    "    return [word for word, _ in similarities]"
   ],
   "metadata": {
    "collapsed": false,
    "pycharm": {
     "name": "#%%\n"
    }
   }
  },
  {
   "cell_type": "code",
   "execution_count": 53,
   "metadata": {
    "collapsed": false
   },
   "outputs": [
    {
     "data": {
      "text/plain": "'עבודה'"
     },
     "execution_count": 53,
     "metadata": {},
     "output_type": "execute_result"
    }
   ],
   "source": [
    "model.doesnt_match(\"ביבי נתניהו ליכוד עבודה\".split())"
   ]
  },
  {
   "cell_type": "code",
   "execution_count": 54,
   "metadata": {
    "collapsed": false
   },
   "outputs": [
    {
     "name": "stderr",
     "output_type": "stream",
     "text": [
      "[2021-12-11 23:45:33.912] [WARN]: vectors for words {'טוגנים', 'צהריים'} are not present in the model, ignoring these words @@@ [MainThread] [gensim.models.keyedvectors:1038]\n"
     ]
    },
    {
     "data": {
      "text/plain": "'ערב'"
     },
     "execution_count": 54,
     "metadata": {},
     "output_type": "execute_result"
    }
   ],
   "source": [
    "model.doesnt_match(\"לילה בוקר ערב צהריים טוגנים\".split())"
   ]
  },
  {
   "cell_type": "code",
   "execution_count": 67,
   "metadata": {
    "collapsed": false
   },
   "outputs": [
    {
     "data": {
      "text/plain": "'צלחת'"
     },
     "execution_count": 67,
     "metadata": {},
     "output_type": "execute_result"
    }
   ],
   "source": [
    "model.doesnt_match(\"סוס כלב ציפור אריות לוויתנ חתול צלחת\".split())"
   ]
  },
  {
   "cell_type": "code",
   "execution_count": 56,
   "metadata": {
    "collapsed": false
   },
   "outputs": [
    {
     "data": {
      "text/plain": "['לגבר', 'הגבר', 'כגבר', 'אישה', 'זונה']"
     },
     "execution_count": 56,
     "metadata": {},
     "output_type": "execute_result"
    }
   ],
   "source": [
    "similarities_to_words(model.most_similar(\"גבר\", topn=5))"
   ]
  },
  {
   "cell_type": "code",
   "execution_count": 57,
   "metadata": {
    "collapsed": false
   },
   "outputs": [
    {
     "data": {
      "text/plain": "['אשה', 'נערה', 'אלמנה', 'בחורה', 'זונה']"
     },
     "execution_count": 57,
     "metadata": {},
     "output_type": "execute_result"
    }
   ],
   "source": [
    "similarities_to_words(model.most_similar(\"אישה\", topn=5))"
   ]
  },
  {
   "cell_type": "code",
   "execution_count": 58,
   "metadata": {
    "collapsed": false
   },
   "outputs": [
    {
     "data": {
      "text/plain": "0.5915671"
     },
     "execution_count": 58,
     "metadata": {},
     "output_type": "execute_result"
    }
   ],
   "source": [
    "model.similarity(\"גבר\", \"אישה\")"
   ]
  },
  {
   "cell_type": "code",
   "execution_count": 59,
   "metadata": {
    "collapsed": false
   },
   "outputs": [
    {
     "data": {
      "text/plain": "0.5190054"
     },
     "execution_count": 59,
     "metadata": {},
     "output_type": "execute_result"
    }
   ],
   "source": [
    "model.similarity(\"ילד\", \"אישה\")"
   ]
  },
  {
   "cell_type": "code",
   "execution_count": 60,
   "metadata": {
    "collapsed": false
   },
   "outputs": [
    {
     "data": {
      "text/plain": "0.32526597"
     },
     "execution_count": 60,
     "metadata": {},
     "output_type": "execute_result"
    }
   ],
   "source": [
    "model.similarity(\"יפה\", \"אישה\")"
   ]
  },
  {
   "cell_type": "code",
   "execution_count": 69,
   "metadata": {
    "collapsed": false
   },
   "outputs": [
    {
     "data": {
      "text/plain": "['נסיכה', 'מלכי', 'קיסרית', 'מלכה', 'מלכת']"
     },
     "execution_count": 69,
     "metadata": {},
     "output_type": "execute_result"
    }
   ],
   "source": [
    "similarities_to_words(model.most_similar(positive=[\"אישה\", \"מלך\"], negative=[\"גבר\"], topn=5))"
   ]
  },
  {
   "cell_type": "code",
   "execution_count": null,
   "metadata": {
    "collapsed": false
   },
   "outputs": [],
   "source": [
    "similarities_to_words(model.most_similar(positive=[\"ירושלים\", \"גרמניה\"], negative=[\"ברלין\"], topn=5))"
   ]
  },
  {
   "cell_type": "code",
   "execution_count": null,
   "metadata": {
    "collapsed": false
   },
   "outputs": [],
   "source": [
    "similarities_to_words(model.most_similar(positive=[\"לונדון\", \"גרמניה\"], negative=[\"ברלין\"], topn=5))"
   ]
  },
  {
   "cell_type": "code",
   "execution_count": null,
   "metadata": {
    "collapsed": false
   },
   "outputs": [],
   "source": [
    "similarities_to_words(model.most_similar(positive=[\"אוסלו\", \"גרמניה\"], negative=[\"ברלין\"], topn=5))"
   ]
  },
  {
   "cell_type": "code",
   "execution_count": null,
   "metadata": {
    "collapsed": true
   },
   "outputs": [],
   "source": [
    "similarities_to_words(model.most_similar(positive=[\"שמש\", \"שבתאי\", \"צדק\"], topn=5))"
   ]
  },
  {
   "cell_type": "code",
   "execution_count": null,
   "outputs": [],
   "source": [
    "similarities_to_words(model.most_similar(positive=[\"טניס\", \"כדורגל\", \"שולחן\"], topn=5))"
   ],
   "metadata": {
    "collapsed": false,
    "pycharm": {
     "name": "#%%\n"
    }
   }
  },
  {
   "cell_type": "code",
   "execution_count": null,
   "outputs": [],
   "source": [
    "similarities_to_words(model.most_similar(positive=[\"שמש\", \"גשם\", \"שמיים\"], topn=5))"
   ],
   "metadata": {
    "collapsed": false,
    "pycharm": {
     "name": "#%%\n"
    }
   }
  }
 ],
 "metadata": {
  "interpreter": {
   "hash": "6e8222c86223522c750cbbc2c96d298f9dfae65b40cd1567f83c74c61183bce8"
  },
  "kernelspec": {
   "name": "python3810jvsc74a57bd06e8222c86223522c750cbbc2c96d298f9dfae65b40cd1567f83c74c61183bce8",
   "language": "python",
   "display_name": "Python 3.8.10 64-bit ('model-trainer': venv)"
  },
  "language_info": {
   "codemirror_mode": {
    "name": "ipython",
    "version": 3
   },
   "file_extension": ".py",
   "mimetype": "text/x-python",
   "name": "python",
   "nbconvert_exporter": "python",
   "pygments_lexer": "ipython3",
   "version": "3.8.10"
  }
 },
 "nbformat": 4,
 "nbformat_minor": 0
}