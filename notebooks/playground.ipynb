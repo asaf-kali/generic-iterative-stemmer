{
 "cells": [
  {
   "cell_type": "code",
   "execution_count": 2,
   "outputs": [
    {
     "name": "stdout",
     "output_type": "stream",
     "text": [
      "/home/akali/projects/model-trainer\n"
     ]
    }
   ],
   "source": [
    "import numpy as np\n",
    "\n",
    "% cd../"
   ],
   "metadata": {
    "collapsed": false,
    "pycharm": {
     "name": "#%%\n"
    }
   }
  },
  {
   "cell_type": "code",
   "execution_count": null,
   "outputs": [],
   "source": [
    "import importlib\n",
    "\n",
    "from generic_iterative_stemmer.utils import get_path, loader\n",
    "\n",
    "importlib.reload(loader)"
   ],
   "metadata": {
    "collapsed": false,
    "pycharm": {
     "name": "#%%\n"
    }
   }
  },
  {
   "cell_type": "markdown",
   "source": [
    "**Load model and save as KV**"
   ],
   "metadata": {
    "collapsed": false,
    "pycharm": {
     "name": "#%% md\n"
    }
   }
  },
  {
   "cell_type": "code",
   "execution_count": 4,
   "outputs": [],
   "source": [
    "corpus_name = \"wiki-he\""
   ],
   "metadata": {
    "collapsed": false,
    "pycharm": {
     "name": "#%%\n"
    }
   }
  },
  {
   "cell_type": "code",
   "execution_count": 7,
   "outputs": [],
   "source": [
    "# model_path = get_path(corpus_name, \"sg.model\")\n",
    "# model = loader.load_w2v_model(model_path)\n",
    "model_path = get_path(corpus_name, \"sg.kv\")\n",
    "model = loader.load_kv(model_path)"
   ],
   "metadata": {
    "collapsed": false,
    "pycharm": {
     "name": "#%%\n"
    }
   }
  },
  {
   "cell_type": "code",
   "execution_count": 28,
   "outputs": [
    {
     "name": "stdout",
     "output_type": "stream",
     "text": [
      "[23:43:35] loading KeyedVectors object from ./data/wiki-he-filtered/cbow.kv [gensim.utils]\n",
      "[23:43:36] loading vectors from ./data/wiki-he-filtered/cbow.kv.vectors.npy with mmap=None [gensim.utils]\n",
      "[23:43:36] KeyedVectors lifecycle event {'fname': './data/wiki-he-filtered/cbow.kv', 'datetime': '2021-12-11T23:43:36.281740', 'gensim': '4.1.2', 'python': '3.8.10 (default, Sep 28 2021, 16:10:42) \\n[GCC 9.3.0]', 'platform': 'Linux-5.11.0-40-generic-x86_64-with-glibc2.29', 'event': 'loaded'} [gensim.utils]\n",
      "[23:43:36] Vectors loaded [model_trainer.word2vec]\n"
     ]
    }
   ],
   "source": [
    "# path = get_path(corpus_name, \"sg.kv\")\n",
    "# path = get_path(corpus_name, \"cbow.kv\")\n",
    "# path = get_path(corpus_name, \"fasttext.kv\")\n",
    "\n",
    "# model = loader.load_kv(path)"
   ],
   "metadata": {
    "collapsed": false,
    "pycharm": {
     "name": "#%%\n"
    }
   }
  },
  {
   "cell_type": "code",
   "execution_count": 9,
   "metadata": {
    "collapsed": false
   },
   "outputs": [
    {
     "name": "stdout",
     "output_type": "stream",
     "text": [
      "Amount of words: 576850\n"
     ]
    }
   ],
   "source": [
    "print(f\"Amount of words: {len(model.index_to_key)}\")\n",
    "\n",
    "# print(model[\"עם\"])\n",
    "# print(model[\"קטגוריה\"])\n",
    "# print(model[\"הוא\"])\n",
    "# print(model[\"על\"])\n",
    "# print(model[\"את\"])\n",
    "\n",
    "# note: קטגוריה popularity is due to the Wikipedia bias"
   ]
  },
  {
   "cell_type": "code",
   "execution_count": 10,
   "outputs": [],
   "source": [
    "from typing import List, Tuple, Iterable\n",
    "\n",
    "\n",
    "def similarities_to_words(similarities: Iterable[Tuple[str, float]]) -> List[str]:\n",
    "    return [word for word, _ in similarities]"
   ],
   "metadata": {
    "collapsed": false,
    "pycharm": {
     "name": "#%%\n"
    }
   }
  },
  {
   "cell_type": "code",
   "execution_count": 11,
   "metadata": {
    "collapsed": false
   },
   "outputs": [
    {
     "data": {
      "text/plain": "'עבודה'"
     },
     "execution_count": 11,
     "metadata": {},
     "output_type": "execute_result"
    }
   ],
   "source": [
    "model.doesnt_match(\"ביבי נתניהו ליכוד עבודה\".split())"
   ]
  },
  {
   "cell_type": "code",
   "execution_count": 12,
   "metadata": {
    "collapsed": false
   },
   "outputs": [
    {
     "data": {
      "text/plain": "'טוגנים'"
     },
     "execution_count": 12,
     "metadata": {},
     "output_type": "execute_result"
    }
   ],
   "source": [
    "model.doesnt_match(\"לילה בוקר ערב צהריים טוגנים\".split())"
   ]
  },
  {
   "cell_type": "code",
   "execution_count": 13,
   "metadata": {
    "collapsed": false
   },
   "outputs": [
    {
     "data": {
      "text/plain": "'צלחת'"
     },
     "execution_count": 13,
     "metadata": {},
     "output_type": "execute_result"
    }
   ],
   "source": [
    "model.doesnt_match(\"סוס כלב ציפור אריות לוויתנ חתול צלחת\".split())"
   ]
  },
  {
   "cell_type": "code",
   "execution_count": 18,
   "metadata": {
    "collapsed": false
   },
   "outputs": [
    {
     "data": {
      "text/plain": "['וגבר', 'כשגבר', 'התשיעיות', 'אישה', 'קולקרני']"
     },
     "execution_count": 18,
     "metadata": {},
     "output_type": "execute_result"
    }
   ],
   "source": [
    "similarities_to_words(model.most_similar(\"גבר\", topn=5))"
   ]
  },
  {
   "cell_type": "code",
   "execution_count": 15,
   "metadata": {
    "collapsed": false
   },
   "outputs": [
    {
     "data": {
      "text/plain": "['אשה', 'נערה', 'בחורה', 'ילדה', 'צעירה']"
     },
     "execution_count": 15,
     "metadata": {},
     "output_type": "execute_result"
    }
   ],
   "source": [
    "similarities_to_words(model.most_similar(\"אישה\", topn=5))"
   ]
  },
  {
   "cell_type": "code",
   "execution_count": 58,
   "metadata": {
    "collapsed": false
   },
   "outputs": [
    {
     "data": {
      "text/plain": "0.5915671"
     },
     "execution_count": 58,
     "metadata": {},
     "output_type": "execute_result"
    }
   ],
   "source": [
    "model.similarity(\"גבר\", \"אישה\")"
   ]
  },
  {
   "cell_type": "code",
   "execution_count": 59,
   "metadata": {
    "collapsed": false
   },
   "outputs": [
    {
     "data": {
      "text/plain": "0.5190054"
     },
     "execution_count": 59,
     "metadata": {},
     "output_type": "execute_result"
    }
   ],
   "source": [
    "model.similarity(\"ילד\", \"אישה\")"
   ]
  },
  {
   "cell_type": "code",
   "execution_count": 60,
   "metadata": {
    "collapsed": false
   },
   "outputs": [
    {
     "data": {
      "text/plain": "0.32526597"
     },
     "execution_count": 60,
     "metadata": {},
     "output_type": "execute_result"
    }
   ],
   "source": [
    "model.similarity(\"יפה\", \"אישה\")"
   ]
  },
  {
   "cell_type": "code",
   "execution_count": 69,
   "metadata": {
    "collapsed": false
   },
   "outputs": [
    {
     "data": {
      "text/plain": "['נסיכה', 'מלכי', 'קיסרית', 'מלכה', 'מלכת']"
     },
     "execution_count": 69,
     "metadata": {},
     "output_type": "execute_result"
    }
   ],
   "source": [
    "similarities_to_words(model.most_similar(positive=[\"אישה\", \"מלך\"], negative=[\"גבר\"], topn=5))"
   ]
  },
  {
   "cell_type": "code",
   "execution_count": 19,
   "metadata": {
    "collapsed": false
   },
   "outputs": [
    {
     "data": {
      "text/plain": "['ישראל', 'אתיופיה', 'סוריה', 'תימן', 'מרוקו']"
     },
     "execution_count": 19,
     "metadata": {},
     "output_type": "execute_result"
    }
   ],
   "source": [
    "similarities_to_words(model.most_similar(positive=[\"ירושלים\", \"גרמניה\"], negative=[\"ברלין\"], topn=5))"
   ]
  },
  {
   "cell_type": "code",
   "execution_count": 20,
   "metadata": {
    "collapsed": false
   },
   "outputs": [
    {
     "data": {
      "text/plain": "['בריטניה', 'אירלנד', 'אנגליה', 'קנדה', 'הממלכה']"
     },
     "execution_count": 20,
     "metadata": {},
     "output_type": "execute_result"
    }
   ],
   "source": [
    "similarities_to_words(model.most_similar(positive=[\"לונדון\", \"גרמניה\"], negative=[\"ברלין\"], topn=5))"
   ]
  },
  {
   "cell_type": "code",
   "execution_count": null,
   "metadata": {
    "collapsed": false
   },
   "outputs": [],
   "source": [
    "similarities_to_words(model.most_similar(positive=[\"אוסלו\", \"גרמניה\"], negative=[\"ברלין\"], topn=5))"
   ]
  },
  {
   "cell_type": "code",
   "execution_count": 21,
   "metadata": {
    "collapsed": true,
    "pycharm": {
     "name": "#%%\n"
    }
   },
   "outputs": [
    {
     "data": {
      "text/plain": "['ושבתאי', 'נוגה', 'השמש', 'וטבעותיו', 'אור']"
     },
     "execution_count": 21,
     "metadata": {},
     "output_type": "execute_result"
    }
   ],
   "source": [
    "similarities_to_words(model.most_similar(positive=[\"שמש\", \"שבתאי\", \"צדק\"], topn=5))"
   ]
  },
  {
   "cell_type": "code",
   "execution_count": 74,
   "outputs": [
    {
     "name": "stdout",
     "output_type": "stream",
     "text": [
      "['ובקוויבק', 'קפן', 'הקלוויניזם', 'הגזעיות', 'והוגדרו', 'חיזקו', 'ההוהוקם', 'יוחסו', 'הקילט', 'המיסיונרית']\n",
      "-0.086947374\n"
     ]
    }
   ],
   "source": [
    "def norm(x):\n",
    "    return np.linalg.norm(x)\n",
    "\n",
    "\n",
    "def normalize(x):\n",
    "    return x / norm(x)\n",
    "\n",
    "\n",
    "def cosine_similarity(u, v) -> float:\n",
    "    u = normalize(u)\n",
    "    v = normalize(v)\n",
    "    return u.T @ v\n",
    "\n",
    "\n",
    "word1 = normalize(model[\"מכונית\"])\n",
    "word2 = normalize(model[\"המכונית\"])\n",
    "word5 = normalize(model[\"מטוס\"])\n",
    "word3 = normalize(model[\"כן\"])\n",
    "word4 = normalize(model[\"גזוזטרה\"])\n",
    "pi = normalize(model[\"לבלב\"])\n",
    "start = normalize(model[\"איתי\"])\n",
    "\n",
    "print(similarities_to_words(model.most_similar(-start)))\n",
    "\n",
    "x = model[\"הקלוויניזם\"]\n",
    "print(cosine_similarity(x, model[\"איתי\"]))"
   ],
   "metadata": {
    "collapsed": false,
    "pycharm": {
     "name": "#%%\n"
    }
   }
  },
  {
   "cell_type": "code",
   "execution_count": 96,
   "outputs": [
    {
     "name": "stdout",
     "output_type": "stream",
     "text": [
      "[('מלך', 0.7251264452934265), ('ממלכי', 0.6092973351478577), ('נקבה', 0.6077431440353394), ('מולך', 0.5939931273460388), ('ומלך', 0.5853518843650818), ('נגסת', 0.5797238349914551), ('לבנן', 0.5742993354797363), ('ברניקיה', 0.5731168985366821), ('צאצאיה', 0.5727803707122803), ('פורטריו', 0.5691075325012207)]\n"
     ]
    }
   ],
   "source": [
    "# print(model.most_similar(positive=[\"מלך\", \"נקבה\"], negative=[\"זכר\"]))\n",
    "w1 = model[\"מלך\"]\n",
    "w2 = model[\"נקבה\"]\n",
    "w3 = model[\"גבר\"]\n",
    "# print(\"\\n\\n\")\n",
    "result = (w1 + w2 - w3) / 3\n",
    "print(model.most_similar(result))"
   ],
   "metadata": {
    "collapsed": false,
    "pycharm": {
     "name": "#%%\n"
    }
   }
  },
  {
   "cell_type": "code",
   "execution_count": 78,
   "outputs": [
    {
     "name": "stdout",
     "output_type": "stream",
     "text": [
      "0.33300534808340365\n"
     ]
    }
   ],
   "source": [
    "y = model[\"עלמי\"]\n",
    "print(cosine_similarity(r, y))"
   ],
   "metadata": {
    "collapsed": false,
    "pycharm": {
     "name": "#%%\n"
    }
   }
  },
  {
   "cell_type": "code",
   "execution_count": null,
   "outputs": [],
   "source": [],
   "metadata": {
    "collapsed": false,
    "pycharm": {
     "name": "#%%\n"
    }
   }
  }
 ],
 "metadata": {
  "interpreter": {
   "hash": "6e8222c86223522c750cbbc2c96d298f9dfae65b40cd1567f83c74c61183bce8"
  },
  "kernelspec": {
   "name": "python3810jvsc74a57bd06e8222c86223522c750cbbc2c96d298f9dfae65b40cd1567f83c74c61183bce8",
   "language": "python",
   "display_name": "Python 3.8.10 64-bit ('model-trainer': venv)"
  },
  "language_info": {
   "codemirror_mode": {
    "name": "ipython",
    "version": 3
   },
   "file_extension": ".py",
   "mimetype": "text/x-python",
   "name": "python",
   "nbconvert_exporter": "python",
   "pygments_lexer": "ipython3",
   "version": "3.8.10"
  }
 },
 "nbformat": 4,
 "nbformat_minor": 0
}