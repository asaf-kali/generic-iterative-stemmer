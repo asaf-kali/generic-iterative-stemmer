{
 "cells": [
  {
   "cell_type": "code",
   "execution_count": 5,
   "outputs": [
    {
     "data": {
      "text/plain": "<module 'model_trainer.word2vec' from '/projects/model-trainer/model_trainer/word2vec.py'>"
     },
     "execution_count": 5,
     "metadata": {},
     "output_type": "execute_result"
    }
   ],
   "source": [
    "import importlib\n",
    "\n",
    "from model_trainer import loader, fast_text, word2vec\n",
    "from model_trainer.config import get_path\n",
    "\n",
    "importlib.reload(loader)\n",
    "importlib.reload(fast_text)\n",
    "importlib.reload(word2vec)"
   ],
   "metadata": {
    "collapsed": false,
    "pycharm": {
     "name": "#%%\n"
    }
   }
  },
  {
   "cell_type": "code",
   "execution_count": 7,
   "outputs": [],
   "source": [
    "corpus_name = \"small\"\n",
    "corpus_file_path = get_path(corpus_name, \"corpus.txt\")\n",
    "fast_text_output_path = get_path(corpus_name, \"fasttext.model\")\n",
    "\n",
    "fast_text.train(corpus_file_path, fast_text_output_path)"
   ],
   "metadata": {
    "collapsed": false,
    "pycharm": {
     "name": "#%%\n"
    }
   }
  }
 ],
 "metadata": {
  "interpreter": {
   "hash": "6e8222c86223522c750cbbc2c96d298f9dfae65b40cd1567f83c74c61183bce8"
  },
  "kernelspec": {
   "display_name": "Python 2",
   "language": "python",
   "name": "python3"
  },
  "language_info": {
   "codemirror_mode": {
    "name": "ipython",
    "version": 3
   },
   "file_extension": ".py",
   "mimetype": "text/x-python",
   "name": "python",
   "nbconvert_exporter": "python",
   "pygments_lexer": "ipython3",
   "version": "3.8.10"
  }
 },
 "nbformat": 4,
 "nbformat_minor": 0
}