{
 "cells": [
  {
   "cell_type": "code",
   "execution_count": 1,
   "outputs": [
    {
     "name": "stdout",
     "output_type": "stream",
     "text": [
      "/home/akali/projects/model-trainer\n"
     ]
    }
   ],
   "source": [
    "%cd \"../\""
   ],
   "metadata": {
    "collapsed": false,
    "pycharm": {
     "name": "#%%\n"
    }
   }
  },
  {
   "cell_type": "code",
   "execution_count": 2,
   "outputs": [
    {
     "data": {
      "text/plain": "<module 'generic_iterative_stemmer.training.base.word2vec' from '/home/akali/projects/model-trainer/generic_iterative_stemmer/training/base/word2vec.py'>"
     },
     "execution_count": 2,
     "metadata": {},
     "output_type": "execute_result"
    }
   ],
   "source": [
    "import importlib\n",
    "\n",
    "from generic_iterative_stemmer.training.base import fast_text, word2vec\n",
    "from generic_iterative_stemmer.utils import get_path, loader\n",
    "\n",
    "importlib.reload(loader)\n",
    "importlib.reload(fast_text)\n",
    "importlib.reload(word2vec)"
   ],
   "metadata": {
    "collapsed": false,
    "pycharm": {
     "name": "#%%\n"
    }
   }
  },
  {
   "cell_type": "code",
   "execution_count": 3,
   "outputs": [],
   "source": [
    "corpus_name = \"wiki-he-200\"\n",
    "corpus_file_path = get_path(corpus_name, \"corpus.txt\")"
   ],
   "metadata": {
    "collapsed": false,
    "pycharm": {
     "name": "#%%\n"
    }
   }
  },
  {
   "cell_type": "code",
   "execution_count": 4,
   "outputs": [],
   "source": [
    "w2v_cbow_output_path = get_path(corpus_name, \"cbow\")\n",
    "\n",
    "cbow_model = word2vec.train(corpus_path=corpus_file_path, output_model_path=w2v_cbow_output_path, vector_size=200, epochs=10)"
   ],
   "metadata": {
    "collapsed": false,
    "pycharm": {
     "name": "#%%\n"
    }
   }
  },
  {
   "cell_type": "code",
   "execution_count": null,
   "outputs": [],
   "source": [
    "from gensim.models import FastText\n",
    "\n",
    "ft_output_path = get_path(corpus_name, \"ft\")\n",
    "\n",
    "\n",
    "ft_model = FastText(corpus_file=corpus_file_path, vector_size=200)\n",
    "ft_model.train(\n",
    "    corpus_file=corpus_file_path,\n",
    "    total_words=ft_model.corpus_total_words,\n",
    "    total_examples=ft_model.corpus_count,\n",
    "    epochs=10\n",
    ")"
   ],
   "metadata": {
    "collapsed": false,
    "pycharm": {
     "name": "#%%\n",
     "is_executing": true
    }
   }
  },
  {
   "cell_type": "code",
   "execution_count": 5,
   "outputs": [
    {
     "name": "stdout",
     "output_type": "stream",
     "text": [
      "[23:39:57] loading 16 words for fastText model from ./data/small/fasttext.model [gensim.models._fasttext_bin]\n",
      "[23:39:58] FastText lifecycle event {'params': 'FastText(vocab=0, vector_size=100, alpha=0.025)', 'datetime': '2021-12-11T23:39:58.673308', 'gensim': '4.1.2', 'python': '3.8.10 (default, Sep 28 2021, 16:10:42) \\n[GCC 9.3.0]', 'platform': 'Linux-5.11.0-40-generic-x86_64-with-glibc2.29', 'event': 'created'} [gensim.utils]\n",
      "[23:39:58] Updating model with new vocabulary [gensim.models.word2vec]\n",
      "[23:39:58] FastText lifecycle event {'msg': 'added 16 new unique words (100.0%% of original 16) and increased the count of 0 pre-existing words (0.0%% of original 16)', 'datetime': '2021-12-11T23:39:58.674815', 'gensim': '4.1.2', 'python': '3.8.10 (default, Sep 28 2021, 16:10:42) \\n[GCC 9.3.0]', 'platform': 'Linux-5.11.0-40-generic-x86_64-with-glibc2.29', 'event': 'prepare_vocab'} [gensim.utils]\n",
      "[23:39:58] deleting the raw counts dictionary of 16 items [gensim.models.word2vec]\n",
      "[23:39:58] sample=0.0001 downsamples 16 most-common words [gensim.models.word2vec]\n",
      "[23:39:58] FastText lifecycle event {'msg': 'downsampling leaves estimated 5.345134162779623 word corpus (4.0%% of prior 132)', 'datetime': '2021-12-11T23:39:58.676810', 'gensim': '4.1.2', 'python': '3.8.10 (default, Sep 28 2021, 16:10:42) \\n[GCC 9.3.0]', 'platform': 'Linux-5.11.0-40-generic-x86_64-with-glibc2.29', 'event': 'prepare_vocab'} [gensim.utils]\n",
      "[23:39:59] FastText lifecycle event {'msg': 'loaded (2000016, 100) weight matrix for fastText model from ./data/small/fasttext.model', 'datetime': '2021-12-11T23:39:59.571390', 'gensim': '4.1.2', 'python': '3.8.10 (default, Sep 28 2021, 16:10:42) \\n[GCC 9.3.0]', 'platform': 'Linux-5.11.0-40-generic-x86_64-with-glibc2.29', 'event': 'load_fasttext_format'} [gensim.utils]\n",
      "[23:39:59] fasttext model loaded [model_trainer.word2vec]\n",
      "[23:39:59] FastTextKeyedVectors lifecycle event {'fname_or_handle': './data/small/fasttext.kv', 'separately': 'None', 'sep_limit': 10485760, 'ignore': frozenset(), 'datetime': '2021-12-11T23:39:59.583850', 'gensim': '4.1.2', 'python': '3.8.10 (default, Sep 28 2021, 16:10:42) \\n[GCC 9.3.0]', 'platform': 'Linux-5.11.0-40-generic-x86_64-with-glibc2.29', 'event': 'saving'} [gensim.utils]\n",
      "[23:39:59] storing np array 'vectors_ngrams' to ./data/small/fasttext.kv.vectors_ngrams.npy [gensim.utils]\n",
      "[23:40:00] not storing attribute vectors [gensim.utils]\n",
      "[23:40:00] not storing attribute buckets_word [gensim.utils]\n",
      "[23:40:00] saved ./data/small/fasttext.kv [gensim.utils]\n"
     ]
    }
   ],
   "source": [
    "# corpus_name = \"wiki-he-filtered\"\n",
    "# model_name = \"cbow\"\n",
    "#\n",
    "# trained_model_path = get_path(corpus_name, model_name + \".model\")\n",
    "# output_kv_path = get_path(corpus_name, model_name + \".kv\")\n",
    "# model = loader.load_w2v_model(trained_model_path)\n",
    "# model.wv.save(output_kv_path)"
   ],
   "metadata": {
    "collapsed": false,
    "pycharm": {
     "name": "#%%\n"
    }
   }
  },
  {
   "cell_type": "code",
   "execution_count": null,
   "outputs": [],
   "source": [],
   "metadata": {
    "collapsed": false,
    "pycharm": {
     "name": "#%%\n"
    }
   }
  }
 ],
 "metadata": {
  "interpreter": {
   "hash": "6e8222c86223522c750cbbc2c96d298f9dfae65b40cd1567f83c74c61183bce8"
  },
  "kernelspec": {
   "display_name": "Python 2",
   "language": "python",
   "name": "python3"
  },
  "language_info": {
   "codemirror_mode": {
    "name": "ipython",
    "version": 3
   },
   "file_extension": ".py",
   "mimetype": "text/x-python",
   "name": "python",
   "nbconvert_exporter": "python",
   "pygments_lexer": "ipython3",
   "version": "3.8.10"
  }
 },
 "nbformat": 4,
 "nbformat_minor": 0
}