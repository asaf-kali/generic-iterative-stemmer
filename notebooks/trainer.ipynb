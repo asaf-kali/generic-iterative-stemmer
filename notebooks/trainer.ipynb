{
 "cells": [
  {
   "cell_type": "code",
   "execution_count": 6,
   "outputs": [
    {
     "name": "stdout",
     "output_type": "stream",
     "text": [
      "/home/akali/projects\n"
     ]
    }
   ],
   "source": [
    "%cd \"../\""
   ],
   "metadata": {
    "collapsed": false,
    "pycharm": {
     "name": "#%%\n"
    }
   }
  },
  {
   "cell_type": "code",
   "execution_count": 11,
   "outputs": [
    {
     "name": "stdout",
     "output_type": "stream",
     "text": [
      "/home/akali/projects/model-trainer\n"
     ]
    }
   ],
   "source": [
    "# %cd \"model-trainer\""
   ],
   "metadata": {
    "collapsed": false,
    "pycharm": {
     "name": "#%%\n"
    }
   }
  },
  {
   "cell_type": "code",
   "execution_count": 7,
   "outputs": [
    {
     "data": {
      "text/plain": "<module 'generic_iterative_stemmer.training.base.word2vec' from '/home/akali/projects/model-trainer/generic_iterative_stemmer/training/base/word2vec.py'>"
     },
     "execution_count": 7,
     "metadata": {},
     "output_type": "execute_result"
    }
   ],
   "source": [
    "import importlib\n",
    "\n",
    "from generic_iterative_stemmer.training.base import fast_text, word2vec\n",
    "from generic_iterative_stemmer.utils import get_path, loader\n",
    "\n",
    "importlib.reload(loader)\n",
    "importlib.reload(fast_text)\n",
    "importlib.reload(word2vec)"
   ],
   "metadata": {
    "collapsed": false,
    "pycharm": {
     "name": "#%%\n"
    }
   }
  },
  {
   "cell_type": "code",
   "execution_count": 8,
   "outputs": [],
   "source": [
    "corpus_name = \"wiki-he-200\"\n",
    "corpus_file_path = get_path(corpus_name, \"corpus.txt\")"
   ],
   "metadata": {
    "collapsed": false,
    "pycharm": {
     "name": "#%%\n"
    }
   }
  },
  {
   "cell_type": "code",
   "execution_count": 9,
   "outputs": [],
   "source": [
    "w2v_cbow_output_path = get_path(corpus_name, \"cbow\")\n",
    "\n",
    "# cbow_model = word2vec.train(corpus_path=corpus_file_path, output_model_path=w2v_cbow_output_path, vector_size=200, epochs=10)"
   ],
   "metadata": {
    "collapsed": false,
    "pycharm": {
     "name": "#%%\n"
    }
   }
  },
  {
   "cell_type": "code",
   "execution_count": null,
   "outputs": [],
   "source": [
    "from gensim.models import FastText\n",
    "\n",
    "ft_output_path = get_path(corpus_name, \"ft\")\n",
    "ft_model = FastText(corpus_file=corpus_file_path, vector_size=200)\n",
    "ft_model.train(\n",
    "    corpus_file=corpus_file_path,\n",
    "    total_words=ft_model.corpus_total_words,\n",
    "    total_examples=ft_model.corpus_count,\n",
    "    epochs=10\n",
    ")\n",
    "ft_model.save(ft_output_path)"
   ],
   "metadata": {
    "collapsed": false,
    "pycharm": {
     "name": "#%%\n",
     "is_executing": true
    }
   }
  },
  {
   "cell_type": "code",
   "execution_count": null,
   "outputs": [],
   "source": [],
   "metadata": {
    "collapsed": false,
    "pycharm": {
     "name": "#%%\n"
    }
   }
  }
 ],
 "metadata": {
  "interpreter": {
   "hash": "6e8222c86223522c750cbbc2c96d298f9dfae65b40cd1567f83c74c61183bce8"
  },
  "kernelspec": {
   "display_name": "Python 2",
   "language": "python",
   "name": "python3"
  },
  "language_info": {
   "codemirror_mode": {
    "name": "ipython",
    "version": 3
   },
   "file_extension": ".py",
   "mimetype": "text/x-python",
   "name": "python",
   "nbconvert_exporter": "python",
   "pygments_lexer": "ipython3",
   "version": "3.8.10"
  }
 },
 "nbformat": 4,
 "nbformat_minor": 0
}