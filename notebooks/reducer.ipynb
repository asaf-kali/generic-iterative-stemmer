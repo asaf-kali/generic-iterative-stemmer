{
 "cells": [
  {
   "cell_type": "code",
   "execution_count": 1,
   "outputs": [
    {
     "name": "stdout",
     "output_type": "stream",
     "text": [
      "/home/akali/projects/model-trainer\n"
     ]
    }
   ],
   "source": [
    "%cd ../\n",
    "%reload_ext autoreload\n",
    "%autoreload 2"
   ],
   "metadata": {
    "collapsed": false,
    "pycharm": {
     "name": "#%%\n"
    }
   }
  },
  {
   "cell_type": "code",
   "execution_count": 2,
   "outputs": [
    {
     "name": "stdout",
     "output_type": "stream",
     "text": [
      "[22:19:46] Logging configured [utils.logging]\n"
     ]
    },
    {
     "data": {
      "text/plain": "<module 'model_trainer.loader' from '/projects/model-trainer/model_trainer/loader.py'>"
     },
     "execution_count": 2,
     "metadata": {},
     "output_type": "execute_result"
    }
   ],
   "source": [
    "import importlib\n",
    "import logging\n",
    "import json\n",
    "from model_trainer import loader\n",
    "from model_trainer.config import get_path\n",
    "\n",
    "log = logging.getLogger(__name__)\n",
    "importlib.reload(loader)"
   ],
   "metadata": {
    "collapsed": false,
    "pycharm": {
     "name": "#%%\n"
    }
   }
  },
  {
   "cell_type": "code",
   "execution_count": 3,
   "outputs": [
    {
     "name": "stdout",
     "output_type": "stream",
     "text": [
      "[22:19:47] loading KeyedVectors object from ./data/wiki-he/cbow.kv [gensim.utils]\n",
      "[22:19:47] loading vectors from ./data/wiki-he/cbow.kv.vectors.npy with mmap=None [gensim.utils]\n",
      "[22:19:47] KeyedVectors lifecycle event {'fname': './data/wiki-he/cbow.kv', 'datetime': '2021-12-11T22:19:47.652156', 'gensim': '4.1.2', 'python': '3.8.10 (default, Sep 28 2021, 16:10:42) \\n[GCC 9.3.0]', 'platform': 'Linux-5.11.0-40-generic-x86_64-with-glibc2.29', 'event': 'loaded'} [gensim.utils]\n",
      "[22:19:47] Vectors loaded [model_trainer.word2vec]\n",
      "[22:19:47] loading KeyedVectors object from ./data/wiki-he/fasttext.kv [gensim.utils]\n",
      "[22:19:48] loading vectors_vocab from ./data/wiki-he/fasttext.kv.vectors_vocab.npy with mmap=None [gensim.utils]\n",
      "[22:19:48] loading vectors_ngrams from ./data/wiki-he/fasttext.kv.vectors_ngrams.npy with mmap=None [gensim.utils]\n",
      "[22:19:48] setting ignored attribute vectors to None [gensim.utils]\n",
      "[22:19:48] setting ignored attribute buckets_word to None [gensim.utils]\n",
      "[22:20:16] FastTextKeyedVectors lifecycle event {'fname': './data/wiki-he/fasttext.kv', 'datetime': '2021-12-11T22:20:16.525631', 'gensim': '4.1.2', 'python': '3.8.10 (default, Sep 28 2021, 16:10:42) \\n[GCC 9.3.0]', 'platform': 'Linux-5.11.0-40-generic-x86_64-with-glibc2.29', 'event': 'loaded'} [gensim.utils]\n",
      "[22:20:16] Vectors loaded [model_trainer.word2vec]\n"
     ]
    }
   ],
   "source": [
    "w2v_cbow_path = get_path(\"wiki-he\", \"cbow.kv\")\n",
    "w2v_cbow_model = loader.load_kv(w2v_cbow_path)\n",
    "\n",
    "# w2v_sg_path = get_path(\"wiki-he\", \"sg.kv\")\n",
    "# w2v_cbow = loader.load_kv(w2v_cbow_path)\n",
    "\n",
    "ft_path = get_path(\"wiki-he\", \"fasttext.kv\")\n",
    "ft_model = loader.load_kv(ft_path)"
   ],
   "metadata": {
    "collapsed": false,
    "pycharm": {
     "name": "#%%\n"
    }
   }
  },
  {
   "cell_type": "code",
   "execution_count": 4,
   "outputs": [
    {
     "name": "stdout",
     "output_type": "stream",
     "text": [
      "Vocabulary diff: 1\n",
      "Common vocab: 576850\n"
     ]
    }
   ],
   "source": [
    "w2v_cbow_vocab = set(w2v_cbow_model.key_to_index.keys())\n",
    "ft_vocab = set(ft_model.key_to_index.keys())\n",
    "common_vocab = w2v_cbow_vocab.intersection(ft_vocab)\n",
    "\n",
    "s1, s2 = len(w2v_cbow_vocab), len(ft_vocab)\n",
    "print(f\"Vocabulary diff: {abs(s1 - s2)}\")\n",
    "print(f\"Common vocab: {len(common_vocab)}\")"
   ],
   "metadata": {
    "collapsed": false,
    "pycharm": {
     "name": "#%%\n"
    }
   }
  },
  {
   "cell_type": "code",
   "execution_count": 11,
   "outputs": [
    {
     "name": "stdout",
     "output_type": "stream",
     "text": [
      "[22:24:13] Generating inflections...2 [model_trainer.inflections.inflections_dict_generator]\n"
     ]
    },
    {
     "name": "stderr",
     "output_type": "stream",
     "text": [
      "100%|██████████| 100/100 [00:05<00:00, 19.89it/s]"
     ]
    },
    {
     "name": "stdout",
     "output_type": "stream",
     "text": [
      "[22:24:18] Total 11 inflections generated [model_trainer.inflections.inflections_dict_generator]\n",
      "[22:24:18] Function 'generate_model_inflections' took 0:00:05.037952. [utils.logging]\n",
      "[22:24:18] Reducing dict of size 11 [model_trainer.inflections.inflections_dict_reducer]\n"
     ]
    },
    {
     "name": "stderr",
     "output_type": "stream",
     "text": [
      "\n",
      "100%|██████████| 11/11 [00:00<00:00, 24672.38it/s]"
     ]
    },
    {
     "name": "stdout",
     "output_type": "stream",
     "text": [
      "[22:24:18] Function 'reduce_inflections_dict' took 0:00:00.018632. [utils.logging]\n",
      "{'שהתעללו': 'שהתעלל', 'dreaming': 'dreamin', 'הפסקאות': 'פסקאות', 'ונעזר': 'נעזר', 'בפסטיבלים': 'פסטיבלים', 'ופסטיבלים': 'פסטיבלים', 'ובפסטיבלים': 'פסטיבלים', 'שיהיה': 'יהיה', 'ועמידה': 'עמידה', 'שניתנה': 'ניתנה', 'ואמיצים': 'אמיצים'}\n"
     ]
    },
    {
     "name": "stderr",
     "output_type": "stream",
     "text": [
      "\n"
     ]
    }
   ],
   "source": [
    "import random\n",
    "from model_trainer import inflections\n",
    "from model_trainer.inflections import InflectionsDictGenerator, reduce_inflections_dict\n",
    "\n",
    "importlib.reload(inflections)\n",
    "\n",
    "inflections_generator = InflectionsDictGenerator(model=w2v_cbow_model)\n",
    "\n",
    "random.seed(123)\n",
    "words = random.sample(common_vocab, k=100)\n",
    "\n",
    "all_inflections = inflections_generator.generate_model_inflections(words=words)\n",
    "reduced_inflections = reduce_inflections_dict(all_inflections)\n",
    "\n",
    "print(reduced_inflections)\n",
    "serialized = json.dumps(reduced_inflections)\n",
    "with open(\"text.json\", \"w\") as file:\n",
    "    file.write(serialized)"
   ],
   "metadata": {
    "collapsed": false,
    "pycharm": {
     "name": "#%%\n"
    }
   }
  },
  {
   "cell_type": "code",
   "execution_count": 5,
   "outputs": [],
   "source": [],
   "metadata": {
    "collapsed": false,
    "pycharm": {
     "name": "#%%\n"
    }
   }
  }
 ],
 "metadata": {
  "kernelspec": {
   "name": "python3810jvsc74a57bd06e8222c86223522c750cbbc2c96d298f9dfae65b40cd1567f83c74c61183bce8",
   "language": "python",
   "display_name": "Python 3.8.10 64-bit ('model-trainer': venv)"
  },
  "language_info": {
   "codemirror_mode": {
    "name": "ipython",
    "version": 2
   },
   "file_extension": ".py",
   "mimetype": "text/x-python",
   "name": "python",
   "nbconvert_exporter": "python",
   "pygments_lexer": "ipython2",
   "version": "2.7.6"
  }
 },
 "nbformat": 4,
 "nbformat_minor": 0
}