{
 "cells": [
  {
   "cell_type": "code",
   "execution_count": null,
   "outputs": [],
   "source": [
    "%cd ../\n",
    "%load_ext autoreload\n",
    "%autoreload 2"
   ],
   "metadata": {
    "collapsed": false,
    "pycharm": {
     "name": "#%%\n",
     "is_executing": true
    }
   }
  },
  {
   "cell_type": "code",
   "execution_count": null,
   "outputs": [],
   "source": [
    "import importlib\n",
    "import logging\n",
    "import json\n",
    "from model_trainer import loader\n",
    "from model_trainer.config import get_path\n",
    "\n",
    "log = logging.getLogger(__name__)\n",
    "importlib.reload(loader)"
   ],
   "metadata": {
    "collapsed": false,
    "pycharm": {
     "name": "#%%\n",
     "is_executing": true
    }
   }
  },
  {
   "cell_type": "code",
   "execution_count": 3,
   "outputs": [
    {
     "name": "stdout",
     "output_type": "stream",
     "text": [
      "[22:03:40] loading KeyedVectors object from ./data/wiki-he/cbow.kv [gensim.utils]\n",
      "[22:03:40] loading vectors from ./data/wiki-he/cbow.kv.vectors.npy with mmap=None [gensim.utils]\n",
      "[22:03:40] KeyedVectors lifecycle event {'fname': './data/wiki-he/cbow.kv', 'datetime': '2021-12-11T22:03:40.929933', 'gensim': '4.1.2', 'python': '3.8.10 (default, Sep 28 2021, 16:10:42) \\n[GCC 9.3.0]', 'platform': 'Linux-5.11.0-40-generic-x86_64-with-glibc2.29', 'event': 'loaded'} [gensim.utils]\n",
      "[22:03:40] Vectors loaded [model_trainer.word2vec]\n",
      "[22:03:40] loading KeyedVectors object from ./data/wiki-he/fasttext.kv [gensim.utils]\n",
      "[22:03:41] loading vectors_vocab from ./data/wiki-he/fasttext.kv.vectors_vocab.npy with mmap=None [gensim.utils]\n",
      "[22:03:41] loading vectors_ngrams from ./data/wiki-he/fasttext.kv.vectors_ngrams.npy with mmap=None [gensim.utils]\n",
      "[22:03:41] setting ignored attribute vectors to None [gensim.utils]\n",
      "[22:03:41] setting ignored attribute buckets_word to None [gensim.utils]\n",
      "[22:04:07] FastTextKeyedVectors lifecycle event {'fname': './data/wiki-he/fasttext.kv', 'datetime': '2021-12-11T22:04:07.808321', 'gensim': '4.1.2', 'python': '3.8.10 (default, Sep 28 2021, 16:10:42) \\n[GCC 9.3.0]', 'platform': 'Linux-5.11.0-40-generic-x86_64-with-glibc2.29', 'event': 'loaded'} [gensim.utils]\n",
      "[22:04:07] Vectors loaded [model_trainer.word2vec]\n"
     ]
    }
   ],
   "source": [
    "w2v_cbow_path = get_path(\"wiki-he\", \"cbow.kv\")\n",
    "w2v_cbow_model = loader.load_kv(w2v_cbow_path)\n",
    "\n",
    "# w2v_sg_path = get_path(\"wiki-he\", \"sg.kv\")\n",
    "# w2v_cbow = loader.load_kv(w2v_cbow_path)\n",
    "\n",
    "ft_path = get_path(\"wiki-he\", \"fasttext.kv\")\n",
    "ft_model = loader.load_kv(ft_path)"
   ],
   "metadata": {
    "collapsed": false,
    "pycharm": {
     "name": "#%%\n"
    }
   }
  },
  {
   "cell_type": "code",
   "execution_count": 4,
   "outputs": [
    {
     "name": "stdout",
     "output_type": "stream",
     "text": [
      "Vocabulary diff: 1\n",
      "Common vocab: 576850\n"
     ]
    }
   ],
   "source": [
    "w2v_cbow_vocab = set(w2v_cbow_model.key_to_index.keys())\n",
    "ft_vocab = set(ft_model.key_to_index.keys())\n",
    "common_vocab = w2v_cbow_vocab.intersection(ft_vocab)\n",
    "\n",
    "s1, s2 = len(w2v_cbow_vocab), len(ft_vocab)\n",
    "print(f\"Vocabulary diff: {abs(s1 - s2)}\")\n",
    "print(f\"Common vocab: {len(common_vocab)}\")"
   ],
   "metadata": {
    "collapsed": false,
    "pycharm": {
     "name": "#%%\n"
    }
   }
  },
  {
   "cell_type": "code",
   "execution_count": null,
   "outputs": [],
   "source": [
    "import random\n",
    "from model_trainer.inflections import InflectionsDictGenerator, reduce_inflections_dict\n",
    "\n",
    "inflections_generator = InflectionsDictGenerator(model=w2v_cbow_model)\n",
    "\n",
    "random.seed(123)\n",
    "words = random.sample(common_vocab, k=100)\n",
    "\n",
    "all_inflections = inflections_generator.generate_model_inflections(words=words)\n",
    "reduced_inflections = reduce_inflections_dict(all_inflections)\n",
    "\n",
    "print(reduced_inflections)\n",
    "serialized = json.dumps(reduced_inflections)\n",
    "with open(\"text.json\", \"w\") as file:\n",
    "    file.write(serialized)"
   ],
   "metadata": {
    "collapsed": false,
    "pycharm": {
     "name": "#%%\n",
     "is_executing": true
    }
   }
  },
  {
   "cell_type": "code",
   "execution_count": null,
   "outputs": [],
   "source": [],
   "metadata": {
    "collapsed": false,
    "pycharm": {
     "name": "#%%\n"
    }
   }
  }
 ],
 "metadata": {
  "kernelspec": {
   "display_name": "Python 3",
   "language": "python",
   "name": "python3"
  },
  "language_info": {
   "codemirror_mode": {
    "name": "ipython",
    "version": 2
   },
   "file_extension": ".py",
   "mimetype": "text/x-python",
   "name": "python",
   "nbconvert_exporter": "python",
   "pygments_lexer": "ipython2",
   "version": "2.7.6"
  }
 },
 "nbformat": 4,
 "nbformat_minor": 0
}