{
 "cells": [
  {
   "cell_type": "code",
   "execution_count": 5,
   "outputs": [
    {
     "name": "stdout",
     "output_type": "stream",
     "text": [
      "/home/akali/projects/model-trainer\n"
     ]
    }
   ],
   "source": [
    "%cd ../\n",
    "%reload_ext autoreload\n",
    "%autoreload 2"
   ],
   "metadata": {
    "collapsed": false,
    "pycharm": {
     "name": "#%%\n"
    }
   }
  },
  {
   "cell_type": "code",
   "execution_count": 3,
   "outputs": [
    {
     "name": "stdout",
     "output_type": "stream",
     "text": [
      "[23:49:19] Logging configured [utils.logging]\n"
     ]
    },
    {
     "data": {
      "text/plain": "<module 'model_trainer.loader' from '/projects/model-trainer/model_trainer/loader.py'>"
     },
     "execution_count": 3,
     "metadata": {},
     "output_type": "execute_result"
    }
   ],
   "source": [
    "import importlib\n",
    "import logging\n",
    "import json\n",
    "from model_trainer import loader\n",
    "from model_trainer.config import get_path\n",
    "\n",
    "log = logging.getLogger(__name__)\n",
    "importlib.reload(loader)"
   ],
   "metadata": {
    "collapsed": false,
    "pycharm": {
     "name": "#%%\n"
    }
   }
  },
  {
   "cell_type": "code",
   "execution_count": 1,
   "outputs": [],
   "source": [
    "corpus_name = \"wiki-he-filtered\""
   ],
   "metadata": {
    "collapsed": false,
    "pycharm": {
     "name": "#%%\n"
    }
   }
  },
  {
   "cell_type": "code",
   "execution_count": 7,
   "outputs": [
    {
     "name": "stdout",
     "output_type": "stream",
     "text": [
      "[23:49:39] loading KeyedVectors object from ./data/wiki-he-filtered/cbow.kv [gensim.utils]\n",
      "[23:49:39] loading vectors from ./data/wiki-he-filtered/cbow.kv.vectors.npy with mmap=None [gensim.utils]\n",
      "[23:49:39] KeyedVectors lifecycle event {'fname': './data/wiki-he-filtered/cbow.kv', 'datetime': '2021-12-11T23:49:39.529779', 'gensim': '4.1.2', 'python': '3.8.10 (default, Sep 28 2021, 16:10:42) \\n[GCC 9.3.0]', 'platform': 'Linux-5.11.0-40-generic-x86_64-with-glibc2.29', 'event': 'loaded'} [gensim.utils]\n",
      "[23:49:39] Vectors loaded [model_trainer.word2vec]\n"
     ]
    }
   ],
   "source": [
    "w2v_cbow_path = get_path(corpus_name, \"cbow.kv\")\n",
    "w2v_cbow_model = loader.load_kv(w2v_cbow_path)\n",
    "\n",
    "# w2v_sg_path = get_path(corpus_name, \"sg.kv\")\n",
    "# w2v_cbow = loader.load_kv(w2v_cbow_path)\n",
    "\n",
    "# ft_path = get_path(corpus_name, \"fasttext.kv\")\n",
    "# ft_model = loader.load_kv(ft_path)"
   ],
   "metadata": {
    "collapsed": false,
    "pycharm": {
     "name": "#%%\n"
    }
   }
  },
  {
   "cell_type": "code",
   "execution_count": 10,
   "outputs": [
    {
     "name": "stdout",
     "output_type": "stream",
     "text": [
      "Vocabulary diff: 0\n",
      "Common vocab: 473539\n"
     ]
    }
   ],
   "source": [
    "w2v_cbow_vocab = set(w2v_cbow_model.key_to_index.keys())\n",
    "ft_vocab = w2v_cbow_vocab # set(ft_model.key_to_index.keys())\n",
    "common_vocab = w2v_cbow_vocab.intersection(ft_vocab)\n",
    "\n",
    "s1, s2 = len(w2v_cbow_vocab), len(ft_vocab)\n",
    "print(f\"Vocabulary diff: {abs(s1 - s2)}\")\n",
    "print(f\"Common vocab: {len(common_vocab)}\")"
   ],
   "metadata": {
    "collapsed": false,
    "pycharm": {
     "name": "#%%\n"
    }
   }
  },
  {
   "cell_type": "code",
   "execution_count": 11,
   "outputs": [
    {
     "name": "stdout",
     "output_type": "stream",
     "text": [
      "[23:50:48] Generating inflections...2 [model_trainer.inflections.inflections_dict_generator]\n"
     ]
    },
    {
     "name": "stderr",
     "output_type": "stream",
     "text": [
      "100%|██████████| 1000/1000 [00:38<00:00, 25.80it/s]"
     ]
    },
    {
     "name": "stdout",
     "output_type": "stream",
     "text": [
      "[23:51:27] Total 63 inflections generated [model_trainer.inflections.inflections_dict_generator]\n",
      "[23:51:27] Function 'generate_model_inflections' took 0:00:38.840070. [utils.logging]\n",
      "[23:51:27] Reducing dict of size 63 [model_trainer.inflections.inflections_dict_reducer]\n"
     ]
    },
    {
     "name": "stderr",
     "output_type": "stream",
     "text": [
      "\n",
      "100%|██████████| 63/63 [00:00<00:00, 133051.94it/s]"
     ]
    },
    {
     "name": "stdout",
     "output_type": "stream",
     "text": [
      "[23:51:27] Function 'reduce_inflections_dict' took 0:00:00.005169. [utils.logging]\n",
      "{'במובנה': 'במובנ', 'במובנו': 'במובנ', 'בכרייסטצ': 'כרייסטצ', 'וכרייסטצ': 'כרייסטצ', 'למשגרי': 'למשגר', 'והסצנה': 'הסצנה', 'מזנ': 'זנ', 'ובחגימ': 'בחגימ', 'שעיטרו': 'עיטרו', 'ונפגשה': 'ונפגש', 'אצטדיונימ': 'אצטדיוני', 'וקורסיקה': 'קורסיקה', 'הראשתנימ': 'ראשתנימ', 'כינסו': 'כינס', 'שכינס': 'כינס', 'ואיליה': 'איליה', 'שייצאה': 'ייצאה', 'וגודלמ': 'גודלמ', 'ותופעות': 'תופעות', 'בתופעות': 'תופעות', 'ולתופעות': 'תופעות', 'לתופעות': 'תופעות', 'כמרקיז': 'מרקיז', 'בצעדות': 'צעדות', 'החורגות': 'חורגות', 'חריצימ': 'חריצ', 'ומזרימימ': 'מזרימימ', 'וצורתו': 'צורתו', 'לתלמידמ': 'תלמידמ', 'שחוקקו': 'חוקקו', 'לנאשמימ': 'לנאשמ', 'שרדפו': 'שרדפ', 'שרדפה': 'שרדפ', 'וקארדי': 'קארדי', 'ויואש': 'יואש', 'והתרועע': 'התרועע', 'ובמתכות': 'במתכות', 'אברונימ': 'אברוני', 'ואברונימ': 'אברוני', 'ובוטלה': 'בוטלה', 'כשמשני': 'שמשני', 'וכנפיהמ': 'כנפיהמ', 'כונדריטימ': 'כונדריט', 'המוכתמימ': 'מוכתמימ', 'בענידת': 'ענידת', 'שחומשו': 'חומשו', 'המכרז': 'מכרז', 'ההקלדה': 'הקלדה', 'בהקלדה': 'הקלדה', 'ההמוגלובינ': 'המוגלובינ', 'הקימוט': 'קימוט', 'בלואנדה': 'לואנדה', 'הדוקטורט': 'דוקטורט', 'ומחליטות': 'מחליטות', 'מסתעפימ': 'מסתעפ', 'בהשמנת': 'השמנת', 'להשמנת': 'השמנת', 'והשמנת': 'השמנת', 'מהשמנת': 'השמנת', 'ומשטחי': 'ומשטח', 'במכשירי': 'מכשירי', 'ומכשירי': 'מכשירי', 'ודובי': 'דובי'}\n"
     ]
    },
    {
     "name": "stderr",
     "output_type": "stream",
     "text": [
      "\n"
     ]
    }
   ],
   "source": [
    "import random\n",
    "from model_trainer import inflections\n",
    "from model_trainer.inflections import InflectionsDictGenerator, reduce_inflections_dict\n",
    "\n",
    "importlib.reload(inflections)\n",
    "\n",
    "inflections_generator = InflectionsDictGenerator(model=w2v_cbow_model)\n",
    "\n",
    "random.seed(123)\n",
    "words = random.sample(common_vocab, k=1000)\n",
    "\n",
    "all_inflections = inflections_generator.generate_model_inflections(words=words)\n",
    "reduced_inflections = reduce_inflections_dict(all_inflections)\n",
    "\n",
    "print(reduced_inflections)\n",
    "serialized = json.dumps(reduced_inflections)\n",
    "with open(\"text.json\", \"w\") as file:\n",
    "    file.write(serialized)"
   ],
   "metadata": {
    "collapsed": false,
    "pycharm": {
     "name": "#%%\n"
    }
   }
  },
  {
   "cell_type": "code",
   "execution_count": 5,
   "outputs": [],
   "source": [],
   "metadata": {
    "collapsed": false,
    "pycharm": {
     "name": "#%%\n"
    }
   }
  }
 ],
 "metadata": {
  "kernelspec": {
   "name": "python3810jvsc74a57bd06e8222c86223522c750cbbc2c96d298f9dfae65b40cd1567f83c74c61183bce8",
   "language": "python",
   "display_name": "Python 3.8.10 64-bit ('model-trainer': venv)"
  },
  "language_info": {
   "codemirror_mode": {
    "name": "ipython",
    "version": 2
   },
   "file_extension": ".py",
   "mimetype": "text/x-python",
   "name": "python",
   "nbconvert_exporter": "python",
   "pygments_lexer": "ipython2",
   "version": "2.7.6"
  }
 },
 "nbformat": 4,
 "nbformat_minor": 0
}