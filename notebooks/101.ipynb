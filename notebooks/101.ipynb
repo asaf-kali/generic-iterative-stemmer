{
 "cells": [
  {
   "cell_type": "code",
   "execution_count": 3,
   "outputs": [
    {
     "name": "stdout",
     "output_type": "stream",
     "text": [
      "/home/akali/projects/model-trainer\n"
     ]
    }
   ],
   "source": [
    "# Change dir to model trainer base dir\n",
    "% cd \"../\""
   ],
   "metadata": {
    "collapsed": false,
    "pycharm": {
     "name": "#%%\n"
    }
   }
  },
  {
   "cell_type": "code",
   "execution_count": 4,
   "outputs": [],
   "source": [
    "# Create the data directory if it doesn't exist\n",
    "import os\n",
    "\n",
    "os.makedirs(\"./data\", exist_ok=True)"
   ],
   "metadata": {
    "collapsed": false,
    "pycharm": {
     "name": "#%%\n"
    }
   }
  },
  {
   "cell_type": "code",
   "execution_count": 5,
   "outputs": [
    {
     "data": {
      "text/plain": "257157873"
     },
     "execution_count": 5,
     "metadata": {},
     "output_type": "execute_result"
    }
   ],
   "source": [
    "# Download raw wiki dump file\n",
    "from generic_iterative_stemmer.utils import get_path\n",
    "import requests\n",
    "\n",
    "language_code = \"he\"\n",
    "\n",
    "if language_code == \"en\":\n",
    "    url = \"https://dumps.wikimedia.org/enwiki/latest/enwiki-latest-pages-articles-multistream1.xml-p1p41242.bz2\"\n",
    "    file_name = \"wiki-en.xml.bz2\"\n",
    "else:\n",
    "    url = \"https://dumps.wikimedia.org/hewiki/latest/hewiki-latest-pages-articles.xml.bz2\"\n",
    "    file_name = \"wiki-he.xml.bz2\"\n",
    "\n",
    "response = requests.get(url, stream=True)\n",
    "wiki_dump_path = get_path(file_name)\n",
    "open(wiki_dump_path, \"wb\").write(response.content)"
   ],
   "metadata": {
    "collapsed": false,
    "pycharm": {
     "name": "#%%\n"
    }
   }
  },
  {
   "cell_type": "code",
   "execution_count": 11,
   "outputs": [
    {
     "name": "stderr",
     "output_type": "stream",
     "text": [
      "Generate wiki corpus: 20704it [03:09, 109.26it/s]\n"
     ]
    }
   ],
   "source": [
    "# Build a corpus file\n",
    "from generic_iterative_stemmer.training.base.create_corpus import generate_wiki_corpus_file, hebrew_tokenizer_no_suffix\n",
    "\n",
    "corpus_folder = get_path(f\"wiki-{language_code}\")\n",
    "corpus_file_path = os.path.join(corpus_folder, \"corpus.txt\")\n",
    "os.makedirs(corpus_folder, exist_ok=True)\n",
    "tokenizer = hebrew_tokenizer_no_suffix if language_code == \"he\" else None\n",
    "\n",
    "generate_wiki_corpus_file(\n",
    "    articles_file_path=wiki_dump_path,\n",
    "    output_file_path=corpus_file_path,\n",
    "    tokenizer_func=tokenizer,\n",
    ")"
   ],
   "metadata": {
    "collapsed": false,
    "pycharm": {
     "name": "#%%\n"
    }
   }
  },
  {
   "cell_type": "code",
   "execution_count": 14,
   "outputs": [
    {
     "name": "stdout",
     "output_type": "stream",
     "text": [
      "[17:12:06] Starting iterations stemmer training... [generic_iterative_stemmer.training.stemming.stemming_trainer]\n",
      "[17:12:06] Running stemming iteration number 1. [generic_iterative_stemmer.training.stemming.stemming_trainer]\n",
      "[17:12:06] loading KeyedVectors object from ./data/wiki-en/iter-1/model.kv [gensim.utils]\n",
      "[17:12:06] loading vectors_vocab from ./data/wiki-en/iter-1/model.kv.vectors_vocab.npy with mmap=None [gensim.utils]\n",
      "[17:12:06] loading vectors_ngrams from ./data/wiki-en/iter-1/model.kv.vectors_ngrams.npy with mmap=None [gensim.utils]\n",
      "[17:12:08] setting ignored attribute vectors to None [gensim.utils]\n",
      "[17:12:08] setting ignored attribute buckets_word to None [gensim.utils]\n",
      "[17:12:20] FastTextKeyedVectors lifecycle event {'fname': './data/wiki-en/iter-1/model.kv', 'datetime': '2022-02-03T17:12:20.598247', 'gensim': '4.1.2', 'python': '3.8.10 (default, Sep 28 2021, 16:10:42) \\n[GCC 9.3.0]', 'platform': 'Linux-5.11.0-40-generic-x86_64-with-glibc2.29', 'event': 'loaded'} [gensim.utils]\n",
      "[17:12:20] Vectors loaded [generic_iterative_stemmer.utils.loader]\n",
      "[17:12:20] Generating stem dict for words... [generic_iterative_stemmer.training.stemming.stem_generator]\n"
     ]
    },
    {
     "name": "stderr",
     "output_type": "stream",
     "text": [
      "Add stemming tasks: 100%|██████████| 177307/177307 [00:05<00:00, 33387.87it/s]\n",
      "Generate stem dict: 100%|██████████| 177307/177307 [21:46<00:00, 135.74it/s]"
     ]
    },
    {
     "name": "stdout",
     "output_type": "stream",
     "text": [
      "[17:34:12] Total 19303 stems generated [generic_iterative_stemmer.training.stemming.stem_generator]\n"
     ]
    },
    {
     "name": "stderr",
     "output_type": "stream",
     "text": [
      "\n"
     ]
    },
    {
     "name": "stdout",
     "output_type": "stream",
     "text": [
      "[17:34:13] Stemming corpus... [generic_iterative_stemmer.training.stemming.corpus_stemmer]\n"
     ]
    },
    {
     "name": "stderr",
     "output_type": "stream",
     "text": [
      "Corpus stemming: 20704it [00:29, 704.64it/s] "
     ]
    },
    {
     "name": "stdout",
     "output_type": "stream",
     "text": [
      "[17:34:42] Stemming corpus done [generic_iterative_stemmer.training.stemming.corpus_stemmer]\n",
      "[17:34:42] Stemming iteration 1 completed. [generic_iterative_stemmer.training.stemming.stemming_trainer]\n"
     ]
    },
    {
     "name": "stderr",
     "output_type": "stream",
     "text": [
      "\n"
     ]
    },
    {
     "name": "stdout",
     "output_type": "stream",
     "text": [
      "[17:34:42] Running stemming iteration number 2. [generic_iterative_stemmer.training.stemming.stemming_trainer]\n",
      "[17:34:42] loading KeyedVectors object from ./data/wiki-en/iter-2/model.kv [gensim.utils]\n",
      "[17:34:43] loading vectors_vocab from ./data/wiki-en/iter-2/model.kv.vectors_vocab.npy with mmap=None [gensim.utils]\n",
      "[17:34:43] loading vectors_ngrams from ./data/wiki-en/iter-2/model.kv.vectors_ngrams.npy with mmap=None [gensim.utils]\n",
      "[17:34:44] setting ignored attribute vectors to None [gensim.utils]\n",
      "[17:34:44] setting ignored attribute buckets_word to None [gensim.utils]\n",
      "[17:34:50] FastTextKeyedVectors lifecycle event {'fname': './data/wiki-en/iter-2/model.kv', 'datetime': '2022-02-03T17:34:50.667090', 'gensim': '4.1.2', 'python': '3.8.10 (default, Sep 28 2021, 16:10:42) \\n[GCC 9.3.0]', 'platform': 'Linux-5.11.0-40-generic-x86_64-with-glibc2.29', 'event': 'loaded'} [gensim.utils]\n",
      "[17:34:50] Vectors loaded [generic_iterative_stemmer.utils.loader]\n",
      "[17:34:50] Generating stem dict for words... [generic_iterative_stemmer.training.stemming.stem_generator]\n"
     ]
    },
    {
     "name": "stderr",
     "output_type": "stream",
     "text": [
      "Add stemming tasks: 100%|██████████| 151866/151866 [00:04<00:00, 36544.54it/s]\n",
      "Generate stem dict: 100%|██████████| 151866/151866 [15:37<00:00, 161.91it/s]"
     ]
    },
    {
     "name": "stdout",
     "output_type": "stream",
     "text": [
      "[17:50:32] Total 5192 stems generated [generic_iterative_stemmer.training.stemming.stem_generator]\n"
     ]
    },
    {
     "name": "stderr",
     "output_type": "stream",
     "text": [
      "\n"
     ]
    },
    {
     "name": "stdout",
     "output_type": "stream",
     "text": [
      "[17:50:33] Stemming corpus... [generic_iterative_stemmer.training.stemming.corpus_stemmer]\n"
     ]
    },
    {
     "name": "stderr",
     "output_type": "stream",
     "text": [
      "Corpus stemming: 20704it [00:26, 795.03it/s] \n"
     ]
    },
    {
     "name": "stdout",
     "output_type": "stream",
     "text": [
      "[17:50:59] Stemming corpus done [generic_iterative_stemmer.training.stemming.corpus_stemmer]\n",
      "[17:50:59] Stemming iteration 2 completed. [generic_iterative_stemmer.training.stemming.stemming_trainer]\n",
      "[17:50:59] Reached 2 iterations, quitting. [generic_iterative_stemmer.training.stemming.stemming_trainer]\n"
     ]
    }
   ],
   "source": [
    "# Train a stemmed model\n",
    "\n",
    "from generic_iterative_stemmer.training.stemming import FastTextStemmingTrainer\n",
    "from generic_iterative_stemmer.training.stemming.default_stem_generator import DefaultStemGenerator\n",
    "from generic_iterative_stemmer.training.stemming.stemming_trainer import IterationProgram\n",
    "from generic_iterative_stemmer.utils import configure_logging\n",
    "\n",
    "configure_logging(level=\"INFO\")\n",
    "\n",
    "training_program = [\n",
    "    IterationProgram(stem_generator=DefaultStemGenerator(min_cosine_similarity=0.87, max_edit_distance=0)),\n",
    "    IterationProgram(\n",
    "        stem_generator=DefaultStemGenerator(\n",
    "            min_cosine_similarity=0.85, max_edit_distance=1, min_cosine_similarity_for_edit_distance=0.90\n",
    "        ),\n",
    "    ),\n",
    "]\n",
    "\n",
    "training_params = {\"vector_size\": 100, \"epochs\": 6, \"window\": 5}\n",
    "default_stemming_params = {\"min_cosine_similarity\": 0.65, \"min_cosine_similarity_for_edit_distance\": 0.75}\n",
    "trainer = FastTextStemmingTrainer(\n",
    "    corpus_folder=corpus_folder,\n",
    "    max_iterations=2,\n",
    "    completed_iterations=0,\n",
    "    training_program=training_program,\n",
    "    default_training_params=training_params,\n",
    "    default_stem_generator_params=default_stemming_params,\n",
    ")\n",
    "\n",
    "trainer.train()"
   ],
   "metadata": {
    "collapsed": false,
    "pycharm": {
     "name": "#%%\n"
    }
   }
  },
  {
   "cell_type": "code",
   "execution_count": null,
   "outputs": [],
   "source": [],
   "metadata": {
    "collapsed": false,
    "pycharm": {
     "name": "#%%\n"
    }
   }
  }
 ],
 "metadata": {
  "kernelspec": {
   "display_name": "Python 3",
   "language": "python",
   "name": "python3"
  },
  "language_info": {
   "codemirror_mode": {
    "name": "ipython",
    "version": 2
   },
   "file_extension": ".py",
   "mimetype": "text/x-python",
   "name": "python",
   "nbconvert_exporter": "python",
   "pygments_lexer": "ipython2",
   "version": "2.7.6"
  }
 },
 "nbformat": 4,
 "nbformat_minor": 0
}